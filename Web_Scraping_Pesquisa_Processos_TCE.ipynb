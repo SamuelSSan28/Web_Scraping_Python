{
  "nbformat": 4,
  "nbformat_minor": 0,
  "metadata": {
    "colab": {
      "name": "Web_Scraping_Pesquisa_Processos_TCE.ipynb",
      "provenance": [],
      "authorship_tag": "ABX9TyODMJJcV0bSUq0B5vdKna8Z",
      "include_colab_link": true
    },
    "kernelspec": {
      "name": "python3",
      "display_name": "Python 3"
    }
  },
  "cells": [
    {
      "cell_type": "markdown",
      "metadata": {
        "id": "view-in-github",
        "colab_type": "text"
      },
      "source": [
        "<a href=\"https://colab.research.google.com/github/SamuelSSan28/Web_Scraping_Python/blob/master/Web_Scraping_Pesquisa_Processos_TCE.ipynb\" target=\"_parent\"><img src=\"https://colab.research.google.com/assets/colab-badge.svg\" alt=\"Open In Colab\"/></a>"
      ]
    },
    {
      "cell_type": "code",
      "metadata": {
        "id": "4McW0xiX50jz",
        "colab_type": "code",
        "colab": {}
      },
      "source": [
        "# Importando a Requests\n",
        "import requests\n",
        "\n",
        "def request_pag(link):\n",
        "  # Vamos testar a biblioteca requests\n",
        "  html = requests.get(link)\n",
        "  print(\"Status Code:\",html.status_code,'\\n')\n",
        "\n",
        "  # Diferente da urllib, usamos text para apresentar o conteudo que o get nos trouxe\n",
        "  return html.text\n"
      ],
      "execution_count": 2,
      "outputs": []
    },
    {
      "cell_type": "code",
      "metadata": {
        "id": "FJHEh3_n6XId",
        "colab_type": "code",
        "colab": {
          "base_uri": "https://localhost:8080/",
          "height": 34
        },
        "outputId": "ff562e0c-222a-49d9-c733-59cb73560a83"
      },
      "source": [
        "# Importando a BeautifulSoup\n",
        "from bs4 import BeautifulSoup\n",
        "\n",
        "# URL\n",
        "url = \"https://www.tce.pi.gov.br/fiscalizado/pesquisa-de-processos/?n_tipo=0&n_processo=007243%2F2020\"\n",
        "\n",
        "# lendo a URL \n",
        "html = requests.get(url)\n",
        "\n",
        "# Enfim mostrando o poder da bs4\n",
        "bs = BeautifulSoup(html.text, 'lxml')\n",
        "\n",
        "# Imprimindo o título da página\n",
        "print(bs.title)"
      ],
      "execution_count": 3,
      "outputs": [
        {
          "output_type": "stream",
          "text": [
            "<title>  Pesquisa de Processos - Tribunal de Contas do Estado do Piauí</title>\n"
          ],
          "name": "stdout"
        }
      ]
    },
    {
      "cell_type": "code",
      "metadata": {
        "id": "NYa0X5q763R2",
        "colab_type": "code",
        "colab": {
          "base_uri": "https://localhost:8080/",
          "height": 35
        },
        "outputId": "74e03253-fae2-469e-c3d6-587595d142d9"
      },
      "source": [
        "# find_all: todos os elementos encontrados    \n",
        "conteudo = bs.find('center')\n",
        "\n",
        "conteudo.find('h3').text"
      ],
      "execution_count": 19,
      "outputs": [
        {
          "output_type": "execute_result",
          "data": {
            "application/vnd.google.colaboratory.intrinsic+json": {
              "type": "string"
            },
            "text/plain": [
              "'Informações do Processo '"
            ]
          },
          "metadata": {
            "tags": []
          },
          "execution_count": 19
        }
      ]
    },
    {
      "cell_type": "code",
      "metadata": {
        "id": "MqWUy8MG-dDy",
        "colab_type": "code",
        "colab": {
          "base_uri": "https://localhost:8080/",
          "height": 136
        },
        "outputId": "76be6e54-6d7d-425f-b446-3e3b8bafefb1"
      },
      "source": [
        "conteudo.find_all(class_=\"title\")"
      ],
      "execution_count": 21,
      "outputs": [
        {
          "output_type": "execute_result",
          "data": {
            "text/plain": [
              "[<td class=\"title\"><b>Protocolo:</b></td>,\n",
              " <td class=\"title\"><b>Data de Entrada:</b></td>,\n",
              " <td class=\"title\" colspan=\"1\"><b>Unidade Gestora:</b></td>,\n",
              " <td class=\"title\" colspan=\"1\"><b>Relator:</b></td>,\n",
              " <td class=\"title\" colspan=\"1\"><b>Procurador:</b></td>,\n",
              " <th class=\"title data\">Data</th>,\n",
              " <th class=\"title\">Descrição</th>]"
            ]
          },
          "metadata": {
            "tags": []
          },
          "execution_count": 21
        }
      ]
    },
    {
      "cell_type": "code",
      "metadata": {
        "id": "ALklk3kC_GRw",
        "colab_type": "code",
        "colab": {}
      },
      "source": [
        "info = conteudo.find(class_=\"table table-condensed\")"
      ],
      "execution_count": 31,
      "outputs": []
    },
    {
      "cell_type": "code",
      "metadata": {
        "id": "JhIoBIrr_g66",
        "colab_type": "code",
        "colab": {
          "base_uri": "https://localhost:8080/",
          "height": 102
        },
        "outputId": "559c0901-baae-47be-d3c4-b8d7a6b4bef1"
      },
      "source": [
        "info.find_all(class_=\"title\")"
      ],
      "execution_count": 32,
      "outputs": [
        {
          "output_type": "execute_result",
          "data": {
            "text/plain": [
              "[<td class=\"title\"><b>Protocolo:</b></td>,\n",
              " <td class=\"title\"><b>Data de Entrada:</b></td>,\n",
              " <td class=\"title\" colspan=\"1\"><b>Unidade Gestora:</b></td>,\n",
              " <td class=\"title\" colspan=\"1\"><b>Relator:</b></td>,\n",
              " <td class=\"title\" colspan=\"1\"><b>Procurador:</b></td>]"
            ]
          },
          "metadata": {
            "tags": []
          },
          "execution_count": 32
        }
      ]
    },
    {
      "cell_type": "code",
      "metadata": {
        "id": "vU0DYoEd_nyL",
        "colab_type": "code",
        "colab": {
          "base_uri": "https://localhost:8080/",
          "height": 102
        },
        "outputId": "0dea65ec-0520-4807-ec0d-eeb3ab7635d4"
      },
      "source": [
        "info.find_all(class_=\"value\")"
      ],
      "execution_count": 33,
      "outputs": [
        {
          "output_type": "execute_result",
          "data": {
            "text/plain": [
              "[<td class=\"value\">007243/2020</td>,\n",
              " <td class=\"value\">21/07/2020 08:31:46</td>,\n",
              " <td class=\"value\" colspan=\"3\">SECRETARIA DE ADMINISTRACAO DE TERESINA</td>,\n",
              " <td class=\"value\" colspan=\"3\">OLAVO REBELO DE CARVALHO FILHO</td>,\n",
              " <td class=\"value\" colspan=\"3\">RAISSA MARIA REZENDE DE DEUS BARBOSA</td>]"
            ]
          },
          "metadata": {
            "tags": []
          },
          "execution_count": 33
        }
      ]
    },
    {
      "cell_type": "code",
      "metadata": {
        "id": "PkZgF_YD7lhW",
        "colab_type": "code",
        "colab": {
          "base_uri": "https://localhost:8080/",
          "height": 612
        },
        "outputId": "3401d8fa-6c5e-40b6-88a1-3ee811adbe8a"
      },
      "source": [
        "datas = conteudo.find_all(class_=\"value data\")\n",
        "for d in datas:\n",
        "  print(d.text)"
      ],
      "execution_count": 18,
      "outputs": [
        {
          "output_type": "stream",
          "text": [
            "27/07/2020 07:00:20\n",
            "27/07/2020 06:59:49\n",
            "27/07/2020 06:58:04\n",
            "26/07/2020 19:14:02\n",
            "26/07/2020 19:13:26\n",
            "26/07/2020 19:13:26\n",
            "26/07/2020 19:12:55\n",
            "26/07/2020 19:12:31\n",
            "26/07/2020 19:10:04\n",
            "26/07/2020 19:10:04\n",
            "26/07/2020 19:09:29\n",
            "24/07/2020 14:50:44\n",
            "24/07/2020 14:49:54\n",
            "24/07/2020 07:40:32\n",
            "23/07/2020 23:14:23\n",
            "23/07/2020 23:11:56\n",
            "23/07/2020 23:11:51\n",
            "23/07/2020 22:46:38\n",
            "23/07/2020 22:46:37\n",
            "21/07/2020 09:47:56\n",
            "21/07/2020 09:47:23\n",
            "21/07/2020 08:53:33\n",
            "21/07/2020 08:41:26\n",
            "21/07/2020 08:41:25\n",
            "21/07/2020 08:41:13\n",
            "21/07/2020 08:41:04\n",
            "21/07/2020 08:41:04\n",
            "21/07/2020 08:41:00\n",
            "21/07/2020 08:40:25\n",
            "21/07/2020 08:39:59\n",
            "21/07/2020 08:39:39\n",
            "21/07/2020 08:35:56\n",
            "21/07/2020 08:31:52\n",
            "21/07/2020 08:31:52\n",
            "21/07/2020 08:31:52\n"
          ],
          "name": "stdout"
        }
      ]
    },
    {
      "cell_type": "code",
      "metadata": {
        "id": "_kMN2ori82Vs",
        "colab_type": "code",
        "colab": {
          "base_uri": "https://localhost:8080/",
          "height": 632
        },
        "outputId": "ec8f5042-608c-4e35-b5dc-00683fcaac86"
      },
      "source": [
        "movimentacoes = conteudo.find_all(class_=\"value descricao\")\n",
        "for m in movimentacoes:\n",
        "  print(m.text)"
      ],
      "execution_count": 17,
      "outputs": [
        {
          "output_type": "stream",
          "text": [
            "O usuário IZABELLE CAROLINE COSTA CAVALCANTE BARROS enviou o protocolo nº: 007243/2020 da área diretoria dfam para a área iv dfam\n",
            "O usuário IZABELLE CAROLINE COSTA CAVALCANTE BARROS enviou o protocolo nº: 007243/2020 de aguardando despacho para aguardando distribuição\n",
            "O usuário IZABELLE CAROLINE COSTA CAVALCANTE BARROS enviou o protocolo nº: 007243/2020 de aguardando distribuição para aguardando despacho\n",
            "O usuário FABIO CORDEIRO executou a ação excluir ato no processo nº: TC/007243/2020 O usuário FABIO CORDEIRO excluiu o ato DOCCPA - DFAM DIR. - 27/2020\n",
            "O usuário FABIO CORDEIRO executou a ação assinar digitalmente no processo nº: TC/007243/2020\n",
            "O usuário FABIO CORDEIRO executou a ação solicitação de assinatura no processo nº: TC/007243/2020 O usuário FABIO CORDEIRO solicitou assinatura do processo para o usuário FABIO CORDEIRO do aqruivo 26072020_191255_E7ACF36718064918B9E3A8E3FBDDE7F7.pdf\n",
            "O usuário FABIO CORDEIRO executou a ação upload de ato no processo nº: TC/007243/2020 O usuário FABIO CORDEIRO anexou o arquivo requerimento_de_afastamento_tce.pdf\n",
            "O usuário FABIO CORDEIRO executou a ação excluir ato no processo nº: TC/007243/2020 O usuário FABIO CORDEIRO excluiu o ato DOCCPA - DFAM DIR. - 26/2020\n",
            "O usuário FABIO CORDEIRO executou a ação assinar digitalmente no processo nº: TC/007243/2020\n",
            "O usuário FABIO CORDEIRO executou a ação solicitação de assinatura no processo nº: TC/007243/2020 O usuário FABIO CORDEIRO solicitou assinatura do processo para o usuário FABIO CORDEIRO do aqruivo 26072020_190929_279006F065F84691A37497B050181020.pdf\n",
            "O usuário FABIO CORDEIRO executou a ação upload de ato no processo nº: TC/007243/2020 O usuário FABIO CORDEIRO anexou o arquivo requerimento_de_afastamento_tce.pdf\n",
            "O usuário Thiago Bruno da Silva Celestino enviou o protocolo nº: 007243/2020 da área gab. cons. olavo rebelo de carvalho filho para a área diretoria dfam\n",
            "O usuário Thiago Bruno da Silva Celestino executou a ação publicar ato no processo nº: TC/007243/2020 O usuário Thiago Bruno da Silva Celestino publicou o ato DES - GREBELO  -  3738/2020\n",
            "O usuário OLAVO REBELO DE CARVALHO FILHO executou a ação assinar digitalmente no processo nº: TC/007243/2020\n",
            "O usuário Thiago Bruno da Silva Celestino executou a ação solicitação de assinatura no processo nº: TC/007243/2020 O usuário Thiago Bruno da Silva Celestino solicitou assinatura do processo para o usuário OLAVO REBELO DE CARVALHO FILHO do aqruivo DES\n",
            "O usuário Thiago Bruno da Silva Celestino executou a ação concluir ato no processo nº: TC/007243/2020 O usuário Thiago Bruno da Silva Celestino concluiu o ato DES - GREBELO - 3738/2020\n",
            "O usuário Thiago Bruno da Silva Celestino executou a ação upload de ato no processo nº: TC/007243/2020 O usuário Thiago Bruno da Silva Celestino anexou o arquivo 23.07.2020 -  tc - 007243-20 - dfam - análise e manifestação preliminar- denuncia em face da secretaria de administração do município de teresina  - 2020.docx\n",
            "O usuário Thiago Bruno da Silva Celestino executou a ação enviar para despacho no processo nº: TC/007243/2020 O usuário Thiago Bruno da Silva Celestino atribuiu o processo/documento para o(s) usuário(s) Thiago Bruno da Silva Celestino com o status (Não atribuiu Status) e a prioridade (Não atribuiu prioridade)\n",
            "O usuário Thiago Bruno da Silva Celestino enviou o protocolo nº: 007243/2020 de aguardando distribuição para aguardando despacho\n",
            "O usuário Rodrigo Santana de Sousa Bezerra enviou o protocolo nº: 007243/2020 da área dp - serviço de protocolo para a área gab. cons. olavo rebelo de carvalho filho\n",
            "O usuário Rodrigo Santana de Sousa Bezerra executou a ação publicar ato no protocolo nº: 007243/2020 O usuário Rodrigo Santana de Sousa Bezerra publicou o ato DES - PROTOCOLO  -  84426/2020\n",
            "O usuário ITALO DE BRITO ROCHA executou a ação assinar digitalmente no protocolo nº: 007243/2020\n",
            "O usuário ANTONIO FABIO SANTOS ALMEIDA executou a ação enviar para despacho no protocolo nº: 007243/2020 O usuário ANTONIO FABIO SANTOS ALMEIDA atribuiu o processo/documento para o(s) usuário(s) (Nenhum usuário) com o status (Não atribuiu Status) e a prioridade (Não atribuiu prioridade)\n",
            "O usuário ANTONIO FABIO SANTOS ALMEIDA enviou o protocolo nº: 007243/2020 de aguardando digitalização para aguardando despacho\n",
            "O usuário ANTONIO FABIO SANTOS ALMEIDA executou a ação solicitação de assinatura no protocolo nº: 007243/2020 O usuário ANTONIO FABIO SANTOS ALMEIDA solicitou assinatura do processo para o usuário ITALO DE BRITO ROCHA do aqruivo DES\n",
            "O usuário ANTONIO FABIO SANTOS ALMEIDA executou a ação concluir ato no protocolo nº: 007243/2020 O usuário ANTONIO FABIO SANTOS ALMEIDA concluiu o ato DES - PROTOCOLO - 84426/2020\n",
            "O usuário ANTONIO FABIO SANTOS ALMEIDA executou a ação validar digitalização no protocolo nº: 007243/2020\n",
            "O usuário ANTONIO FABIO SANTOS ALMEIDA executou a ação upload de ato no protocolo nº: 007243/2020 O usuário ANTONIO FABIO SANTOS ALMEIDA anexou o arquivo gab. do cons. olavo rebelo.docx\n",
            "O usuário ANTONIO FABIO SANTOS ALMEIDA executou a ação assinar digitalmente no protocolo nº: 007243/2020\n",
            "O usuário ANTONIO FABIO SANTOS ALMEIDA executou a ação validar digitalização no protocolo nº: 007243/2020\n",
            "O usuário ANTONIO FABIO SANTOS ALMEIDA executou a ação associar documento(s) no protocolo nº: 007243/2020\n",
            "O usuário ANTONIO FABIO SANTOS ALMEIDA enviou o protocolo nº: 007243/2020 de aguardando triagem para aguardando digitalização\n",
            "O usuário ANTONIO FABIO SANTOS ALMEIDA enviou o protocolo nº: 007243/2020 para a área DP - SERVIÇO DE PROTOCOLO\n",
            "O usuário ANTONIO FABIO SANTOS ALMEIDA enviou o protocolo nº: 007243/2020 para Aguardando triagem\n",
            "O usuário ANTONIO FABIO SANTOS ALMEIDA executou a ação gerar número de protocolo no protocolo nº: 007243/2020\n"
          ],
          "name": "stdout"
        }
      ]
    },
    {
      "cell_type": "code",
      "metadata": {
        "id": "YuJbQxSU-MBr",
        "colab_type": "code",
        "colab": {
          "base_uri": "https://localhost:8080/",
          "height": 35
        },
        "outputId": "11501eb5-4cfb-4edd-b7c0-69b20834cddb"
      },
      "source": [
        "link_pecas_do_processo = conteudo.find(class_=\"btn btn-success hidden-print\")['href']"
      ],
      "execution_count": 40,
      "outputs": [
        {
          "output_type": "execute_result",
          "data": {
            "application/vnd.google.colaboratory.intrinsic+json": {
              "type": "string"
            },
            "text/plain": [
              "'http://sistemas.tce.pi.gov.br/tceviewer/index.xhtml?codigoProtocolo=007243/2020'"
            ]
          },
          "metadata": {
            "tags": []
          },
          "execution_count": 40
        }
      ]
    },
    {
      "cell_type": "code",
      "metadata": {
        "id": "f4o5ULNiARxu",
        "colab_type": "code",
        "colab": {}
      },
      "source": [
        ""
      ],
      "execution_count": null,
      "outputs": []
    }
  ]
}