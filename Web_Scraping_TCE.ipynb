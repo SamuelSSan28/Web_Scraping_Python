{
  "nbformat": 4,
  "nbformat_minor": 0,
  "metadata": {
    "colab": {
      "name": "Web_Scraping_TCE.ipynb",
      "provenance": [],
      "collapsed_sections": [],
      "authorship_tag": "ABX9TyORprC5E3pobyk6hTbMK+Hi",
      "include_colab_link": true
    },
    "kernelspec": {
      "name": "python3",
      "display_name": "Python 3"
    }
  },
  "cells": [
    {
      "cell_type": "markdown",
      "metadata": {
        "id": "view-in-github",
        "colab_type": "text"
      },
      "source": [
        "<a href=\"https://colab.research.google.com/github/SamuelSSan28/Web_Scraping_Python/blob/master/Web_Scraping_TCE.ipynb\" target=\"_parent\"><img src=\"https://colab.research.google.com/assets/colab-badge.svg\" alt=\"Open In Colab\"/></a>"
      ]
    },
    {
      "cell_type": "markdown",
      "metadata": {
        "id": "7lm-dqVNkhWT",
        "colab_type": "text"
      },
      "source": [
        "## Requests\n",
        "\n",
        "Requests é uma biblioteca fazer requisições HTTP, no caso get, nas páginas que queremos extrair dados."
      ]
    },
    {
      "cell_type": "code",
      "metadata": {
        "id": "ABOegM2TkPUc",
        "colab_type": "code",
        "outputId": "4404f764-1df6-4255-8276-1ace9882aa70",
        "colab": {
          "base_uri": "https://localhost:8080/",
          "height": 88
        }
      },
      "source": [
        "# Importando a Requests\n",
        "import requests\n",
        "\n",
        "def request_pag(link):\n",
        "  # Vamos testar a biblioteca requests\n",
        "  html = requests.get(link)\n",
        "  print(\"Status Code:\",html.status_code,'\\n')\n",
        "\n",
        "  # Diferente da urllib, usamos text para apresentar o conteudo que o get nos trouxe\n",
        "  return html.text\n",
        "\n",
        "request_pag(\"https://sistemas.tce.pi.gov.br/muralic/\")"
      ],
      "execution_count": 0,
      "outputs": [
        {
          "output_type": "stream",
          "text": [
            "Status Code: 200 \n",
            "\n"
          ],
          "name": "stdout"
        },
        {
          "output_type": "execute_result",
          "data": {
            "text/plain": [
              "'<!DOCTYPE html>\\n<html xmlns=\"http://www.w3.org/1999/xhtml\" lang=\"pt\"><head id=\"j_idt4\">\\n\\t\\t<meta http-equiv=\"X-UA-Compatible\" content=\"IE=edge\" />\\n\\t\\t<meta http-equiv=\"Content-Type\" content=\"text/html; charset=UTF-8\" />\\n\\t\\t<meta name=\"viewport\" content=\"width=device-width, initial-scale=1.0, maximum-scale=1.0, user-scalable=0\" />\\n\\t\\t<meta name=\"apple-mobile-web-app-capable\" content=\"yes\" /><link type=\"text/css\" rel=\"stylesheet\" href=\"/muralic/javax.faces.resource/theme.css.xhtml?ln=primefaces-paradise-blue\" /><link type=\"text/css\" rel=\"stylesheet\" href=\"/muralic/javax.faces.resource/fa/font-awesome.css.xhtml?ln=primefaces&amp;v=7.0\" /><link type=\"text/css\" rel=\"stylesheet\" href=\"/muralic/javax.faces.resource/sistema.css.xhtml;jsessionid=GWGCmsB-ph9Nlz_YcfufD5eQbUsl5-j7hcb23CxA.izar?ln=css\" /><script type=\"text/javascript\" src=\"/muralic/javax.faces.resource/jsf.js.xhtml;jsessionid=GWGCmsB-ph9Nlz_YcfufD5eQbUsl5-j7hcb23CxA.izar?ln=javax.faces\"></script><link type=\"text/css\" rel=\"stylesheet\" href=\"/muralic/javax.faces.resource/components.css.xhtml;jsessionid=GWGCmsB-ph9Nlz_YcfufD5eQbUsl5-j7hcb23CxA.izar?ln=primefaces&amp;v=7.0\" /><script type=\"text/javascript\" src=\"/muralic/javax.faces.resource/jquery/jquery.js.xhtml;jsessionid=GWGCmsB-ph9Nlz_YcfufD5eQbUsl5-j7hcb23CxA.izar?ln=primefaces&amp;v=7.0\"></script><script type=\"text/javascript\" src=\"/muralic/javax.faces.resource/jquery/jquery-plugins.js.xhtml;jsessionid=GWGCmsB-ph9Nlz_YcfufD5eQbUsl5-j7hcb23CxA.izar?ln=primefaces&amp;v=7.0\"></script><script type=\"text/javascript\" src=\"/muralic/javax.faces.resource/core.js.xhtml;jsessionid=GWGCmsB-ph9Nlz_YcfufD5eQbUsl5-j7hcb23CxA.izar?ln=primefaces&amp;v=7.0\"></script><script type=\"text/javascript\" src=\"/muralic/javax.faces.resource/components.js.xhtml;jsessionid=GWGCmsB-ph9Nlz_YcfufD5eQbUsl5-j7hcb23CxA.izar?ln=primefaces&amp;v=7.0\"></script><link type=\"text/css\" rel=\"stylesheet\" href=\"/muralic/javax.faces.resource/css/nanoscroller.css.xhtml;jsessionid=GWGCmsB-ph9Nlz_YcfufD5eQbUsl5-j7hcb23CxA.izar?ln=paradise-layout\" /><link type=\"text/css\" rel=\"stylesheet\" href=\"/muralic/javax.faces.resource/css/animate.css.xhtml;jsessionid=GWGCmsB-ph9Nlz_YcfufD5eQbUsl5-j7hcb23CxA.izar?ln=paradise-layout\" /><link type=\"text/css\" rel=\"stylesheet\" href=\"/muralic/javax.faces.resource/css/layout-horizon.css.xhtml;jsessionid=GWGCmsB-ph9Nlz_YcfufD5eQbUsl5-j7hcb23CxA.izar?ln=paradise-layout\" /><link type=\"text/css\" rel=\"stylesheet\" href=\"/muralic/javax.faces.resource/css/layout-blue.css.xhtml;jsessionid=GWGCmsB-ph9Nlz_YcfufD5eQbUsl5-j7hcb23CxA.izar?ln=paradise-layout\" /><script type=\"text/javascript\">if(window.PrimeFaces){PrimeFaces.settings.locale=\\'pt_BR\\';}</script>\\n\\t<title>Tribunal de Contas do Estado do Piauí</title><script type=\"text/javascript\" src=\"/muralic/javax.faces.resource/js/nanoscroller.js.xhtml;jsessionid=GWGCmsB-ph9Nlz_YcfufD5eQbUsl5-j7hcb23CxA.izar?ln=paradise-layout\"></script><script type=\"text/javascript\" src=\"/muralic/javax.faces.resource/js/layout.js.xhtml;jsessionid=GWGCmsB-ph9Nlz_YcfufD5eQbUsl5-j7hcb23CxA.izar?ln=paradise-layout\"></script><script type=\"text/javascript\" src=\"/muralic/javax.faces.resource/primefaces-locale-pt.js.xhtml;jsessionid=GWGCmsB-ph9Nlz_YcfufD5eQbUsl5-j7hcb23CxA.izar?ln=javascript\"></script><script type=\"text/javascript\" src=\"/muralic/javax.faces.resource/jscodes.js.xhtml;jsessionid=GWGCmsB-ph9Nlz_YcfufD5eQbUsl5-j7hcb23CxA.izar?ln=javascript\"></script>\\n\\t\\t<style type=\"text/css\">\\n.arquivos-datalist .ui-datalist-item:not (:last-child ) {\\n\\tborder-bottom: 1px solid #dee4e9;\\n}\\n\\n.arquivos-datalist ul {\\n\\tmargin: 0;\\n\\tpadding: 0;\\n}\\n\\n.coluna-botao-download {\\n\\tdisplay: flex;\\n\\talign-items: center;\\n\\tjustify-content: center;\\n}\\n\\n.spinner input     { width:5em }\\n.ui-calendar input { width:6em }\\n\\n#dialogoAguarde.ui-dialog .ui-dialog-content {\\n    background-color: #3984b8;\\n    background: linear-gradient(180deg, #26506d, #3984b8);\\n    color: white;\\n}\\n</style><script src=\"https://sistemas.tce.pi.gov.br/analytics-head.js\" type=\"text/javascript\"></script> </head><body><span id=\"growl\"></span><script id=\"growl_s\" type=\"text/javascript\">$(function(){PrimeFaces.cw(\"Growl\",\"widget_growl\",{id:\"growl\",sticky:true,life:6000,escape:true,keepAlive:false,msgs:[]});});</script>\\n\\t<div class=\"layout-wrapper\">\\n\\t\\t<div class=\"topbar centralizado\">\\n\\t\\t\\t<a href=\"https://www.tce.pi.gov.br\"><img id=\"logoCompany\" src=\"/muralic/javax.faces.resource/logo-tce-transparente3.png.xhtml;jsessionid=GWGCmsB-ph9Nlz_YcfufD5eQbUsl5-j7hcb23CxA.izar?ln=imagens\" width=\"65px\" />\\n\\t\\t\\t</a>\\n\\t\\t\\t<label style=\"margin-left: 10px; vertical-align: super;\">\\n\\t\\t\\t\\t<a href=\"/muralic/\"><b style=\"font-size: 2em;\">Mural de Licitações</b></a>\\n\\t\\t\\t\\t<small style=\"font-size: 70%\">(v20-139)</small>\\n\\t\\t\\t</label>\\n\\t\\t</div>\\n\\t\\t<div class=\"layout-content\">\\n\\n\\t\\t<div class=\"ui-g\">\\n\\n\\t\\t\\t<div class=\"ui-g-12\">\\n\\n\\t\\t\\t\\t<div class=\"card\">\\n<form id=\"formMural\" name=\"formMural\" method=\"post\" action=\"/muralic/index.xhtml;jsessionid=GWGCmsB-ph9Nlz_YcfufD5eQbUsl5-j7hcb23CxA.izar\" enctype=\"application/x-www-form-urlencoded\">\\n<input type=\"hidden\" name=\"formMural\" value=\"formMural\" />\\n<div id=\"formMural:panelGeral\" class=\"ui-panel ui-widget ui-widget-content ui-corner-all painelDireita\" style=\"margin-bottom:8px\" data-widget=\"widget_formMural_panelGeral\"><div id=\"formMural:panelGeral_header\" class=\"ui-panel-titlebar ui-widget-header ui-helper-clearfix ui-corner-all\"><span class=\"ui-panel-title\"><span style=\"color:#3984b8; font-weight: bold;\">SELECIONE O(S) FILTRO(S) E DEPOIS CLIQUE NO BOTÃO </span><span style=\"color:#3984b8; font-weight: bold; font-size:120%\">Pesquisar</span></span><a id=\"formMural:panelGeral_toggler\" href=\"#\" class=\"ui-panel-titlebar-icon ui-corner-all ui-state-default\" aria-label=\"Toggle Panel\"><span class=\"ui-icon ui-icon-minusthick\"></span></a></div><div id=\"formMural:panelGeral_content\" class=\"ui-panel-content ui-widget-content\">\\n\\n\\t\\t\\t\\t\\t\\t\\t<div class=\"ui-g\">\\n\\n\\t\\t\\t\\t\\t\\t\\t\\t<div class=\"ui-g-12 ui-md-3 ui-lg-1\"><label id=\"formMural:j_idt23\" class=\"ui-outputlabel ui-widget\" title=\"status da licitação\" for=\"formMural:status_focus\">Status licitação</label>\\n\\t\\t\\t\\t\\t\\t\\t\\t</div>\\n\\t\\t\\t\\t\\t\\t\\t\\t<div class=\"ui-g-12 ui-md-9 ui-lg-4\"><div id=\"formMural:status\" class=\"ui-selectonemenu ui-widget ui-state-default ui-corner-all\" style=\"width:14em\" title=\"status da licitação\" role=\"combobox\" aria-haspopup=\"true\" aria-expanded=\"false\"><div class=\"ui-helper-hidden-accessible\"><input id=\"formMural:status_focus\" name=\"formMural:status_focus\" type=\"text\" autocomplete=\"off\" aria-expanded=\"false\" aria-labelledby=\"formMural:j_idt23\" /></div><div class=\"ui-helper-hidden-accessible\"><select id=\"formMural:status_input\" name=\"formMural:status_input\" tabindex=\"-1\" aria-hidden=\"true\"><option value=\"0\" data-escape=\"true\">Todas</option><option value=\"2\" selected=\"selected\" data-escape=\"true\">Divulgada (abertura futura)</option><option value=\"3\" data-escape=\"true\">Finalizada</option><option value=\"4\" data-escape=\"true\">Cancelada</option><option value=\"5\" data-escape=\"true\">Suspensa</option><option value=\"6\" data-escape=\"true\">Não finalizada (abertura passada)</option></select></div><label id=\"formMural:status_label\" class=\"ui-selectonemenu-label ui-inputfield ui-corner-all\">&nbsp;</label><div class=\"ui-selectonemenu-trigger ui-state-default ui-corner-right\"><span class=\"ui-icon ui-icon-triangle-1-s ui-c\"></span></div><div id=\"formMural:status_panel\" class=\"ui-selectonemenu-panel ui-widget ui-widget-content ui-corner-all ui-helper-hidden ui-shadow ui-input-overlay\"><div class=\"ui-selectonemenu-items-wrapper\" style=\"max-height:200px\"><ul id=\"formMural:status_items\" class=\"ui-selectonemenu-items ui-selectonemenu-list ui-widget-content ui-widget ui-corner-all ui-helper-reset\" role=\"listbox\"><li class=\"ui-selectonemenu-item ui-selectonemenu-list-item ui-corner-all\" data-label=\"Todas\" tabindex=\"-1\" role=\"option\">Todas</li><li class=\"ui-selectonemenu-item ui-selectonemenu-list-item ui-corner-all\" data-label=\"Divulgada (abertura futura)\" tabindex=\"-1\" role=\"option\">Divulgada (abertura futura)</li><li class=\"ui-selectonemenu-item ui-selectonemenu-list-item ui-corner-all\" data-label=\"Finalizada\" tabindex=\"-1\" role=\"option\">Finalizada</li><li class=\"ui-selectonemenu-item ui-selectonemenu-list-item ui-corner-all\" data-label=\"Cancelada\" tabindex=\"-1\" role=\"option\">Cancelada</li><li class=\"ui-selectonemenu-item ui-selectonemenu-list-item ui-corner-all\" data-label=\"Suspensa\" tabindex=\"-1\" role=\"option\">Suspensa</li><li class=\"ui-selectonemenu-item ui-selectonemenu-list-item ui-corner-all\" data-label=\"Não finalizada (abertura passada)\" tabindex=\"-1\" role=\"option\">Não finalizada (abertura passada)</li></ul></div></div></div><script id=\"formMural:status_s\" type=\"text/javascript\">$(function(){PrimeFaces.cw(\"SelectOneMenu\",\"widget_formMural_status\",{id:\"formMural:status\",appendTo:\"@(body)\"});});</script>\\n\\t\\t\\t\\t\\t\\t\\t\\t</div>\\n\\t\\t\\t\\t\\t\\t\\t\\t<div class=\"ui-g-12 ui-md-3 ui-lg-1\"><label id=\"formMural:j_idt27\" class=\"ui-outputlabel ui-widget\">Dt abertura</label>\\n\\t\\t\\t\\t\\t\\t\\t\\t</div>\\n\\t\\t\\t\\t\\t\\t\\t\\t<div class=\"ui-g-12 ui-md-9 ui-lg-3\"><span id=\"formMural:dataAberturaInicial\" class=\"ui-calendar\" style=\"width:4em\"><input id=\"formMural:dataAberturaInicial_input\" name=\"formMural:dataAberturaInicial_input\" type=\"text\" class=\"ui-inputfield ui-widget ui-state-default ui-corner-all\" /></span><script id=\"formMural:dataAberturaInicial_s\" type=\"text/javascript\">$(function(){PrimeFaces.cw(\"Calendar\",\"widget_formMural_dataAberturaInicial\",{id:\"formMural:dataAberturaInicial\",popup:true,locale:\"pt\",dateFormat:\"dd\\\\/mm\\\\/yy\",showOn:\"button\",mask:\"99\\\\/99\\\\/9999\"});});</script><img id=\"formMural:j_idt29\" width=\"5\" alt=\"\" src=\"/muralic/javax.faces.resource/spacer/dot_clear.gif.xhtml?ln=primefaces&amp;v=7.0\" /><label id=\"formMural:j_idt30\" class=\"ui-outputlabel ui-widget\">até</label><img id=\"formMural:j_idt31\" width=\"5\" alt=\"\" src=\"/muralic/javax.faces.resource/spacer/dot_clear.gif.xhtml?ln=primefaces&amp;v=7.0\" /><span id=\"formMural:dataAberturaFinal\" class=\"ui-calendar\" style=\"width:4em\"><input id=\"formMural:dataAberturaFinal_input\" name=\"formMural:dataAberturaFinal_input\" type=\"text\" class=\"ui-inputfield ui-widget ui-state-default ui-corner-all\" /></span><script id=\"formMural:dataAberturaFinal_s\" type=\"text/javascript\">$(function(){PrimeFaces.cw(\"Calendar\",\"widget_formMural_dataAberturaFinal\",{id:\"formMural:dataAberturaFinal\",popup:true,locale:\"pt\",dateFormat:\"dd\\\\/mm\\\\/yy\",showOn:\"button\",mask:\"99\\\\/99\\\\/9999\"});});</script>\\n\\t\\t\\t\\t\\t\\t\\t\\t</div>\\n\\t\\t\\t\\t\\t\\t\\t\\t<div class=\"ui-g-12 ui-md-3 ui-lg-1\"><label id=\"formMural:j_idt33\" class=\"ui-outputlabel ui-widget direita\">Esfera gov.</label>\\n\\t\\t\\t\\t\\t\\t\\t\\t</div>\\n\\t\\t\\t\\t\\t\\t\\t\\t<div class=\"ui-g-12 ui-md-9 ui-lg-2\"><div id=\"formMural:esfera\" class=\"ui-selectonemenu ui-widget ui-state-default ui-corner-all\" style=\"width:auto\" title=\"esfera da unidade gestora\" role=\"combobox\" aria-haspopup=\"true\" aria-expanded=\"false\"><div class=\"ui-helper-hidden-accessible\"><input id=\"formMural:esfera_focus\" name=\"formMural:esfera_focus\" type=\"text\" autocomplete=\"off\" aria-expanded=\"false\" /></div><div class=\"ui-helper-hidden-accessible\"><select id=\"formMural:esfera_input\" name=\"formMural:esfera_input\" tabindex=\"-1\" aria-hidden=\"true\"><option value=\"0\" selected=\"selected\" data-escape=\"true\">Todas</option><option value=\"1\" data-escape=\"true\">Municipal</option><option value=\"2\" data-escape=\"true\">Estadual</option></select></div><label id=\"formMural:esfera_label\" class=\"ui-selectonemenu-label ui-inputfield ui-corner-all\">&nbsp;</label><div class=\"ui-selectonemenu-trigger ui-state-default ui-corner-right\"><span class=\"ui-icon ui-icon-triangle-1-s ui-c\"></span></div><div id=\"formMural:esfera_panel\" class=\"ui-selectonemenu-panel ui-widget ui-widget-content ui-corner-all ui-helper-hidden ui-shadow ui-input-overlay\"><div class=\"ui-selectonemenu-items-wrapper\" style=\"max-height:200px\"><ul id=\"formMural:esfera_items\" class=\"ui-selectonemenu-items ui-selectonemenu-list ui-widget-content ui-widget ui-corner-all ui-helper-reset\" role=\"listbox\"><li class=\"ui-selectonemenu-item ui-selectonemenu-list-item ui-corner-all\" data-label=\"Todas\" tabindex=\"-1\" role=\"option\">Todas</li><li class=\"ui-selectonemenu-item ui-selectonemenu-list-item ui-corner-all\" data-label=\"Municipal\" tabindex=\"-1\" role=\"option\">Municipal</li><li class=\"ui-selectonemenu-item ui-selectonemenu-list-item ui-corner-all\" data-label=\"Estadual\" tabindex=\"-1\" role=\"option\">Estadual</li></ul></div></div></div><script id=\"formMural:esfera_s\" type=\"text/javascript\">$(function(){PrimeFaces.cw(\"SelectOneMenu\",\"widget_formMural_esfera\",{id:\"formMural:esfera\",appendTo:\"@(body)\"});});</script>\\n\\t\\t\\t\\t\\t\\t\\t\\t</div>\\n\\n\\t\\t\\t\\t\\t\\t\\t\\t<div class=\"ui-g-12 ui-md-3 ui-lg-1\"><div id=\"formMural:j_idt37\" class=\"ui-selectonemenu ui-widget ui-state-default ui-corner-all\" style=\"width:auto\" role=\"combobox\" aria-haspopup=\"true\" aria-expanded=\"false\"><div class=\"ui-helper-hidden-accessible\"><input id=\"formMural:j_idt37_focus\" name=\"formMural:j_idt37_focus\" type=\"text\" autocomplete=\"off\" aria-expanded=\"false\" /></div><div class=\"ui-helper-hidden-accessible\"><select id=\"formMural:j_idt37_input\" name=\"formMural:j_idt37_input\" tabindex=\"-1\" aria-hidden=\"true\"><option value=\"1\" selected=\"selected\" data-escape=\"true\">Proc. TCE</option><option value=\"2\" data-escape=\"true\">Proc lic.</option></select></div><label id=\"formMural:j_idt37_label\" class=\"ui-selectonemenu-label ui-inputfield ui-corner-all\">&nbsp;</label><div class=\"ui-selectonemenu-trigger ui-state-default ui-corner-right\"><span class=\"ui-icon ui-icon-triangle-1-s ui-c\"></span></div><div id=\"formMural:j_idt37_panel\" class=\"ui-selectonemenu-panel ui-widget ui-widget-content ui-corner-all ui-helper-hidden ui-shadow ui-input-overlay\"><div class=\"ui-selectonemenu-items-wrapper\" style=\"max-height:200px\"><ul id=\"formMural:j_idt37_items\" class=\"ui-selectonemenu-items ui-selectonemenu-list ui-widget-content ui-widget ui-corner-all ui-helper-reset\" role=\"listbox\"><li class=\"ui-selectonemenu-item ui-selectonemenu-list-item ui-corner-all\" data-label=\"Proc. TCE\" tabindex=\"-1\" role=\"option\" title=\"nº do processo TCE\">Proc. TCE</li><li class=\"ui-selectonemenu-item ui-selectonemenu-list-item ui-corner-all\" data-label=\"Proc lic.\" tabindex=\"-1\" role=\"option\" title=\"nº do procedimento licitatório\">Proc lic.</li></ul></div></div></div><script id=\"formMural:j_idt37_s\" type=\"text/javascript\">$(function(){PrimeFaces.cw(\"SelectOneMenu\",\"widget_formMural_j_idt37\",{id:\"formMural:j_idt37\",appendTo:\"@(body)\"});});</script>\\n\\t\\t\\t\\t\\t\\t\\t\\t</div>\\n\\t\\t\\t\\t\\t\\t\\t\\t<div class=\"ui-g-12 ui-md-9 ui-lg-4\"><input id=\"formMural:numProcedOuProcessoTCE\" name=\"formMural:numProcedOuProcessoTCE\" type=\"text\" style=\"width:13em\" class=\"ui-inputfield ui-inputtext ui-widget ui-state-default ui-corner-all\" size=\"6\" title=\"nº do procedimento licitatório ou processo TCE\" /><script id=\"formMural:numProcedOuProcessoTCE_s\" type=\"text/javascript\">$(function(){PrimeFaces.cw(\"InputText\",\"widget_formMural_numProcedOuProcessoTCE\",{id:\"formMural:numProcedOuProcessoTCE\",maxlength:-2147483648});});</script>\\n\\t\\t\\t\\t\\t\\t\\t\\t</div>\\n\\t\\t\\t\\t\\t\\t\\t\\t<div class=\"ui-g-12 ui-md-3 ui-lg-1\"><label id=\"formMural:j_idt43\" class=\"ui-outputlabel ui-widget\">Órgão/UG</label>\\n\\t\\t\\t\\t\\t\\t\\t\\t</div>\\n\\t\\t\\t\\t\\t\\t\\t\\t<div class=\"ui-g-12 ui-md-9 ui-lg-3\"><input id=\"formMural:j_idt45\" name=\"formMural:j_idt45\" type=\"text\" style=\"width:90%\" class=\"ui-inputfield ui-inputtext ui-widget ui-state-default ui-corner-all\" placeholder=\"informe parte do nome do órgão, município, etc\" /><script id=\"formMural:j_idt45_s\" type=\"text/javascript\">$(function(){PrimeFaces.cw(\"InputText\",\"widget_formMural_j_idt45\",{id:\"formMural:j_idt45\",maxlength:-2147483648});});</script>\\n\\t\\t\\t\\t\\t\\t\\t\\t</div>\\n\\n\\t\\t\\t\\t\\t\\t\\t\\t<div class=\"ui-g-12 ui-md-12 ui-lg-3\"><div id=\"formMural:j_idt47\" class=\"ui-selectbooleancheckbox ui-chkbox ui-widget\" title=\"é registro de preço\"><div class=\"ui-helper-hidden-accessible\"><input id=\"formMural:j_idt47_input\" name=\"formMural:j_idt47_input\" type=\"checkbox\" autocomplete=\"off\" aria-hidden=\"true\" aria-checked=\"false\" /></div><div class=\"ui-chkbox-box ui-widget ui-corner-all ui-state-default\"><span class=\"ui-chkbox-icon ui-icon ui-icon-blank ui-c\"></span></div></div><script id=\"formMural:j_idt47_s\" type=\"text/javascript\">$(function(){PrimeFaces.cw(\"SelectBooleanCheckbox\",\"widget_formMural_j_idt47\",{id:\"formMural:j_idt47\"});});</script><img id=\"formMural:j_idt48\" width=\"8\" alt=\"\" src=\"/muralic/javax.faces.resource/spacer/dot_clear.gif.xhtml?ln=primefaces&amp;v=7.0\" /><label id=\"formMural:j_idt49\" class=\"ui-outputlabel ui-widget\">É registro de preço</label>\\n\\t\\t\\t\\t\\t\\t\\t\\t</div>\\n\\n\\t\\t\\t\\t\\t\\t\\t</div>\\n\\n\\t\\t\\t\\t\\t\\t\\t<div class=\"ui-g\">\\n\\t\\t\\t\\t\\t\\t\\t\\t<div class=\"ui-g-12 ui-md-3 ui-lg-1\"><label id=\"formMural:j_idt51\" class=\"ui-outputlabel ui-widget\">Modalidade</label>\\n\\t\\t\\t\\t\\t\\t\\t\\t</div>\\n\\t\\t\\t\\t\\t\\t\\t\\t<div class=\"ui-g-12 ui-md-9 ui-lg-4\"><div id=\"formMural:mod\" class=\"ui-selectonemenu ui-widget ui-state-default ui-corner-all\" style=\"width:20em;\" role=\"combobox\" aria-haspopup=\"true\" aria-expanded=\"false\"><div class=\"ui-helper-hidden-accessible\"><input id=\"formMural:mod_focus\" name=\"formMural:mod_focus\" type=\"text\" autocomplete=\"off\" aria-expanded=\"false\" /></div><div class=\"ui-helper-hidden-accessible\"><select id=\"formMural:mod_input\" name=\"formMural:mod_input\" tabindex=\"-1\" aria-hidden=\"true\"><option value=\"\" selected=\"selected\" data-escape=\"true\">todas</option><option value=\"1\" data-escape=\"true\">Nenhum</option><option value=\"2\" data-escape=\"true\">Concorrência</option><option value=\"3\" data-escape=\"true\">Tomada de preço</option><option value=\"4\" data-escape=\"true\">Convite</option><option value=\"5\" data-escape=\"true\">Concurso</option><option value=\"6\" data-escape=\"true\">Leilão</option><option value=\"7\" data-escape=\"true\">Pregão</option><option value=\"12\" data-escape=\"true\">Pregão Eletrônico</option><option value=\"13\" data-escape=\"true\">Pregão Presencial</option><option value=\"8\" data-escape=\"true\">Internacional</option><option value=\"9\" data-escape=\"true\">Licitação RDC</option><option value=\"10\" data-escape=\"true\">Licitação Lei 13.303/16</option><option value=\"11\" data-escape=\"true\">Outras</option></select></div><label id=\"formMural:mod_label\" class=\"ui-selectonemenu-label ui-inputfield ui-corner-all\">&nbsp;</label><div class=\"ui-selectonemenu-trigger ui-state-default ui-corner-right\"><span class=\"ui-icon ui-icon-triangle-1-s ui-c\"></span></div><div id=\"formMural:mod_panel\" class=\"ui-selectonemenu-panel ui-widget ui-widget-content ui-corner-all ui-helper-hidden ui-shadow ui-input-overlay\"><div class=\"ui-selectonemenu-items-wrapper\" style=\"max-height:200px\"><ul id=\"formMural:mod_items\" class=\"ui-selectonemenu-items ui-selectonemenu-list ui-widget-content ui-widget ui-corner-all ui-helper-reset\" role=\"listbox\"><li class=\"ui-selectonemenu-item ui-selectonemenu-list-item ui-corner-all ui-noselection-option\" data-label=\"todas\" tabindex=\"-1\" role=\"option\">todas</li><li class=\"ui-selectonemenu-item ui-selectonemenu-list-item ui-corner-all\" data-label=\"Nenhum\" tabindex=\"-1\" role=\"option\">Nenhum</li><li class=\"ui-selectonemenu-item ui-selectonemenu-list-item ui-corner-all\" data-label=\"Concorrência\" tabindex=\"-1\" role=\"option\">Concorrência</li><li class=\"ui-selectonemenu-item ui-selectonemenu-list-item ui-corner-all\" data-label=\"Tomada de preço\" tabindex=\"-1\" role=\"option\">Tomada de preço</li><li class=\"ui-selectonemenu-item ui-selectonemenu-list-item ui-corner-all\" data-label=\"Convite\" tabindex=\"-1\" role=\"option\">Convite</li><li class=\"ui-selectonemenu-item ui-selectonemenu-list-item ui-corner-all\" data-label=\"Concurso\" tabindex=\"-1\" role=\"option\">Concurso</li><li class=\"ui-selectonemenu-item ui-selectonemenu-list-item ui-corner-all\" data-label=\"Leilão\" tabindex=\"-1\" role=\"option\">Leilão</li><li class=\"ui-selectonemenu-item ui-selectonemenu-list-item ui-corner-all\" data-label=\"Pregão\" tabindex=\"-1\" role=\"option\">Pregão</li><li class=\"ui-selectonemenu-item ui-selectonemenu-list-item ui-corner-all\" data-label=\"Pregão Eletrônico\" tabindex=\"-1\" role=\"option\">Pregão Eletrônico</li><li class=\"ui-selectonemenu-item ui-selectonemenu-list-item ui-corner-all\" data-label=\"Pregão Presencial\" tabindex=\"-1\" role=\"option\">Pregão Presencial</li><li class=\"ui-selectonemenu-item ui-selectonemenu-list-item ui-corner-all\" data-label=\"Internacional\" tabindex=\"-1\" role=\"option\">Internacional</li><li class=\"ui-selectonemenu-item ui-selectonemenu-list-item ui-corner-all\" data-label=\"Licitação RDC\" tabindex=\"-1\" role=\"option\">Licitação RDC</li><li class=\"ui-selectonemenu-item ui-selectonemenu-list-item ui-corner-all\" data-label=\"Licitação Lei 13.303/16\" tabindex=\"-1\" role=\"option\">Licitação Lei 13.303/16</li><li class=\"ui-selectonemenu-item ui-selectonemenu-list-item ui-corner-all\" data-label=\"Outras\" tabindex=\"-1\" role=\"option\">Outras</li></ul></div></div></div><script id=\"formMural:mod_s\" type=\"text/javascript\">$(function(){PrimeFaces.cw(\"SelectOneMenu\",\"widget_formMural_mod\",{id:\"formMural:mod\",appendTo:\"@(body)\"});});</script>\\n\\t\\t\\t\\t\\t\\t\\t\\t</div>\\n\\t\\t\\t\\t\\t\\t\\t\\t<div class=\"ui-g-12 ui-md-3 ui-lg-1\"><label id=\"formMural:j_idt56\" class=\"ui-outputlabel ui-widget\">Tipo objeto</label>\\n\\t\\t\\t\\t\\t\\t\\t\\t</div>\\n\\t\\t\\t\\t\\t\\t\\t\\t<div class=\"ui-g-12 ui-md-9 ui-lg-3\"><div id=\"formMural:obj\" class=\"ui-selectonemenu ui-widget ui-state-default ui-corner-all\" style=\"width:14em\" title=\"tipo do objeto licitado\" role=\"combobox\" aria-haspopup=\"true\" aria-expanded=\"false\"><div class=\"ui-helper-hidden-accessible\"><input id=\"formMural:obj_focus\" name=\"formMural:obj_focus\" type=\"text\" autocomplete=\"off\" aria-expanded=\"false\" /></div><div class=\"ui-helper-hidden-accessible\"><select id=\"formMural:obj_input\" name=\"formMural:obj_input\" tabindex=\"-1\" aria-hidden=\"true\"><option value=\"\" selected=\"selected\" data-escape=\"true\">todos</option><option value=\"1\" data-escape=\"true\">Obras e Serviços de Engenharia</option><option value=\"2\" data-escape=\"true\">Compra - Material Permanente</option><option value=\"3\" data-escape=\"true\">Compra - Material de Consumo</option><option value=\"4\" data-escape=\"true\">Outros serviços</option><option value=\"5\" data-escape=\"true\">Outros</option></select></div><label id=\"formMural:obj_label\" class=\"ui-selectonemenu-label ui-inputfield ui-corner-all\">&nbsp;</label><div class=\"ui-selectonemenu-trigger ui-state-default ui-corner-right\"><span class=\"ui-icon ui-icon-triangle-1-s ui-c\"></span></div><div id=\"formMural:obj_panel\" class=\"ui-selectonemenu-panel ui-widget ui-widget-content ui-corner-all ui-helper-hidden ui-shadow ui-input-overlay\"><div class=\"ui-selectonemenu-items-wrapper\" style=\"max-height:200px\"><ul id=\"formMural:obj_items\" class=\"ui-selectonemenu-items ui-selectonemenu-list ui-widget-content ui-widget ui-corner-all ui-helper-reset\" role=\"listbox\"><li class=\"ui-selectonemenu-item ui-selectonemenu-list-item ui-corner-all ui-noselection-option\" data-label=\"todos\" tabindex=\"-1\" role=\"option\">todos</li><li class=\"ui-selectonemenu-item ui-selectonemenu-list-item ui-corner-all\" data-label=\"Obras e Serviços de Engenharia\" tabindex=\"-1\" role=\"option\">Obras e Serviços de Engenharia</li><li class=\"ui-selectonemenu-item ui-selectonemenu-list-item ui-corner-all\" data-label=\"Compra - Material Permanente\" tabindex=\"-1\" role=\"option\">Compra - Material Permanente</li><li class=\"ui-selectonemenu-item ui-selectonemenu-list-item ui-corner-all\" data-label=\"Compra - Material de Consumo\" tabindex=\"-1\" role=\"option\">Compra - Material de Consumo</li><li class=\"ui-selectonemenu-item ui-selectonemenu-list-item ui-corner-all\" data-label=\"Outros serviços\" tabindex=\"-1\" role=\"option\">Outros serviços</li><li class=\"ui-selectonemenu-item ui-selectonemenu-list-item ui-corner-all\" data-label=\"Outros\" tabindex=\"-1\" role=\"option\">Outros</li></ul></div></div></div><script id=\"formMural:obj_s\" type=\"text/javascript\">$(function(){PrimeFaces.cw(\"SelectOneMenu\",\"widget_formMural_obj\",{id:\"formMural:obj\",appendTo:\"@(body)\"});});</script>\\n\\t\\t\\t\\t\\t\\t\\t\\t</div>\\n\\t\\t\\t\\t\\t\\t\\t\\t<div class=\"ui-g-12 ui-md-3 ui-lg-1\"><label id=\"formMural:j_idt61\" class=\"ui-outputlabel ui-widget\" title=\"previsão do tratamento diferenciado para ME/EPP\">Trat. ME/EPP</label>\\n\\t\\t\\t\\t\\t\\t\\t\\t</div>\\n\\t\\t\\t\\t\\t\\t\\t\\t<div class=\"ui-g-12 ui-md-9 ui-lg-2\"><div id=\"formMural:tratamentoMeEpp\" class=\"ui-selectonemenu ui-widget ui-state-default ui-corner-all\" style=\"width:auto\" title=\"previsão do tratamento diferenciado para ME/EPP\" role=\"combobox\" aria-haspopup=\"true\" aria-expanded=\"false\"><div class=\"ui-helper-hidden-accessible\"><input id=\"formMural:tratamentoMeEpp_focus\" name=\"formMural:tratamentoMeEpp_focus\" type=\"text\" autocomplete=\"off\" aria-expanded=\"false\" /></div><div class=\"ui-helper-hidden-accessible\"><select id=\"formMural:tratamentoMeEpp_input\" name=\"formMural:tratamentoMeEpp_input\" tabindex=\"-1\" aria-hidden=\"true\"><option value=\"I\" data-escape=\"true\">Indiferente</option><option value=\"S\" data-escape=\"true\">Sim</option><option value=\"N\" data-escape=\"true\">Não</option></select></div><label id=\"formMural:tratamentoMeEpp_label\" class=\"ui-selectonemenu-label ui-inputfield ui-corner-all\">&nbsp;</label><div class=\"ui-selectonemenu-trigger ui-state-default ui-corner-right\"><span class=\"ui-icon ui-icon-triangle-1-s ui-c\"></span></div><div id=\"formMural:tratamentoMeEpp_panel\" class=\"ui-selectonemenu-panel ui-widget ui-widget-content ui-corner-all ui-helper-hidden ui-shadow ui-input-overlay\"><div class=\"ui-selectonemenu-items-wrapper\" style=\"max-height:200px\"><ul id=\"formMural:tratamentoMeEpp_items\" class=\"ui-selectonemenu-items ui-selectonemenu-list ui-widget-content ui-widget ui-corner-all ui-helper-reset\" role=\"listbox\"><li class=\"ui-selectonemenu-item ui-selectonemenu-list-item ui-corner-all\" data-label=\"Indiferente\" tabindex=\"-1\" role=\"option\">Indiferente</li><li class=\"ui-selectonemenu-item ui-selectonemenu-list-item ui-corner-all\" data-label=\"Sim\" tabindex=\"-1\" role=\"option\">Sim</li><li class=\"ui-selectonemenu-item ui-selectonemenu-list-item ui-corner-all\" data-label=\"Não\" tabindex=\"-1\" role=\"option\">Não</li></ul></div></div></div><script id=\"formMural:tratamentoMeEpp_s\" type=\"text/javascript\">$(function(){PrimeFaces.cw(\"SelectOneMenu\",\"widget_formMural_tratamentoMeEpp\",{id:\"formMural:tratamentoMeEpp\",appendTo:\"@(body)\"});});</script>\\n\\t\\t\\t\\t\\t\\t\\t\\t</div>\\n\\n\\t\\t\\t\\t\\t\\t\\t\\t<div class=\"ui-g-12 ui-md-3 ui-lg-1\"><label id=\"formMural:j_idt65\" class=\"ui-outputlabel ui-widget\">Desc. objeto</label>\\n\\t\\t\\t\\t\\t\\t\\t\\t</div>\\n\\t\\t\\t\\t\\t\\t\\t\\t<div class=\"ui-g-12 ui-md-9 ui-lg-4\"><input id=\"formMural:j_idt67\" name=\"formMural:j_idt67\" type=\"text\" style=\"width:96%\" class=\"ui-inputfield ui-inputtext ui-widget ui-state-default ui-corner-all\" placeholder=\"informe parte do objeto\" /><script id=\"formMural:j_idt67_s\" type=\"text/javascript\">$(function(){PrimeFaces.cw(\"InputText\",\"widget_formMural_j_idt67\",{id:\"formMural:j_idt67\",maxlength:-2147483648});});</script>\\n\\t\\t\\t\\t\\t\\t\\t\\t</div>\\n\\n\\t\\t\\t\\t\\t\\t\\t\\t<div class=\"ui-g-12 ui-md-1 ui-lg-1\"><label id=\"formMural:j_idt69\" class=\"ui-outputlabel ui-widget\">Licitante</label>\\n\\t\\t\\t\\t\\t\\t\\t\\t</div>\\n\\t\\t\\t\\t\\t\\t\\t\\t<div class=\"ui-g-12 ui-md-3 ui-lg-1\"><div id=\"formMural:tipodoc\" class=\"ui-selectonemenu ui-widget ui-state-default ui-corner-all\" style=\"width:4em; text-align:left\" role=\"combobox\" aria-haspopup=\"true\" aria-expanded=\"false\"><div class=\"ui-helper-hidden-accessible\"><input id=\"formMural:tipodoc_focus\" name=\"formMural:tipodoc_focus\" type=\"text\" autocomplete=\"off\" aria-expanded=\"false\" /></div><div class=\"ui-helper-hidden-accessible\"><select id=\"formMural:tipodoc_input\" name=\"formMural:tipodoc_input\" tabindex=\"-1\" aria-hidden=\"true\" onchange=\"PrimeFaces.ab({s:&quot;formMural:tipodoc&quot;,e:&quot;change&quot;,f:&quot;formMural&quot;,p:&quot;formMural:tipodoc&quot;,u:&quot;formMural:cnpjcpf&quot;});\"><option value=\"1\" selected=\"selected\" data-escape=\"true\">CNPJ</option><option value=\"2\" data-escape=\"true\">CPF</option></select></div><label id=\"formMural:tipodoc_label\" class=\"ui-selectonemenu-label ui-inputfield ui-corner-all\">&nbsp;</label><div class=\"ui-selectonemenu-trigger ui-state-default ui-corner-right\"><span class=\"ui-icon ui-icon-triangle-1-s ui-c\"></span></div><div id=\"formMural:tipodoc_panel\" class=\"ui-selectonemenu-panel ui-widget ui-widget-content ui-corner-all ui-helper-hidden ui-shadow ui-input-overlay\"><div class=\"ui-selectonemenu-items-wrapper\" style=\"max-height:200px\"><ul id=\"formMural:tipodoc_items\" class=\"ui-selectonemenu-items ui-selectonemenu-list ui-widget-content ui-widget ui-corner-all ui-helper-reset\" role=\"listbox\"><li class=\"ui-selectonemenu-item ui-selectonemenu-list-item ui-corner-all\" data-label=\"CNPJ\" tabindex=\"-1\" role=\"option\">CNPJ</li><li class=\"ui-selectonemenu-item ui-selectonemenu-list-item ui-corner-all\" data-label=\"CPF\" tabindex=\"-1\" role=\"option\">CPF</li></ul></div></div></div><script id=\"formMural:tipodoc_s\" type=\"text/javascript\">$(function(){PrimeFaces.cw(\"SelectOneMenu\",\"widget_formMural_tipodoc\",{id:\"formMural:tipodoc\",appendTo:\"@(body)\",behaviors:{change:function(ext,event) {PrimeFaces.ab({s:\"formMural:tipodoc\",e:\"change\",f:\"formMural\",p:\"formMural:tipodoc\",u:\"formMural:cnpjcpf\"},ext);}}});});</script>\\n\\t\\t\\t\\t\\t\\t\\t\\t</div>\\n\\t\\t\\t\\t\\t\\t\\t\\t<div class=\"ui-g-12 ui-md-7 ui-lg-5\"><span id=\"formMural:cnpjcpf\"><input id=\"formMural:cnpj\" name=\"formMural:cnpj\" type=\"text\" title=\"CNPJ do contratado\" style=\"width:auto; vertical-align:top\" class=\"ui-inputfield ui-inputmask ui-widget ui-state-default ui-corner-all\" /><script id=\"formMural:cnpj_s\" type=\"text/javascript\">$(function(){PrimeFaces.cw(\"InputMask\",\"widget_formMural_cnpj\",{id:\"formMural:cnpj\",mask:\"99.999.999\\\\/9999\\\\-99\"});});</script></span>\\n\\t\\t\\t\\t\\t\\t\\t\\t</div>\\n\\n\\t\\t\\t\\t\\t\\t\\t</div>\\n\\n\\t\\t\\t\\t\\t\\t\\t<div align=\"center\" style=\"margin:1em 0 1em 0\"><button id=\"formMural:btnPesquisar\" name=\"formMural:btnPesquisar\" class=\"ui-button ui-widget ui-state-default ui-corner-all ui-button-text-icon-left\" onclick=\"PrimeFaces.ab({s:&quot;formMural:btnPesquisar&quot;,f:&quot;formMural&quot;,p:&quot;formMural&quot;,u:&quot;formMural formListaLic:listaLic&quot;,onst:function(cfg){PF(\\'statusDialog\\').show();},onco:function(xhr,status,args){PF(\\'statusDialog\\').hide();}});return false;\" style=\"width:auto\" type=\"submit\"><span class=\"ui-button-icon-left ui-icon ui-c ui-icon-search\"></span><span class=\"ui-button-text ui-c\">Pesquisar</span></button><script id=\"formMural:btnPesquisar_s\" type=\"text/javascript\">$(function(){PrimeFaces.cw(\"CommandButton\",\"widget_formMural_btnPesquisar\",{id:\"formMural:btnPesquisar\"});});</script><img id=\"formMural:j_idt75\" width=\"15\" alt=\"\" src=\"/muralic/javax.faces.resource/spacer/dot_clear.gif.xhtml?ln=primefaces&amp;v=7.0\" /><button id=\"formMural:btnLimpar\" name=\"formMural:btnLimpar\" class=\"ui-button ui-widget ui-state-default ui-corner-all ui-button-text-only\" onclick=\"PrimeFaces.ab({s:&quot;formMural:btnLimpar&quot;,f:&quot;formMural&quot;,p:&quot;formMural:btnLimpar&quot;,u:&quot;formMural formListaLic:listaLic&quot;});return false;\" label=\"limpar os campos de pesquisa\" style=\"width:auto\" type=\"submit\"><span class=\"ui-button-text ui-c\">limpar</span></button><script id=\"formMural:btnLimpar_s\" type=\"text/javascript\">$(function(){PrimeFaces.cw(\"CommandButton\",\"widget_formMural_btnLimpar\",{id:\"formMural:btnLimpar\"});});</script>\\n\\t\\t\\t\\t\\t\\t\\t</div></div><input type=\"hidden\" id=\"formMural:panelGeral_collapsed\" name=\"formMural:panelGeral_collapsed\" value=\"false\" /></div><script id=\"formMural:panelGeral_s\" type=\"text/javascript\">$(function(){PrimeFaces.cw(\"Panel\",\"widget_formMural_panelGeral\",{id:\"formMural:panelGeral\",toggleable:true,toggleSpeed:500,collapsed:false,toggleOrientation:\"vertical\",toggleableHeader:false});});</script><input type=\"hidden\" name=\"javax.faces.ViewState\" id=\"j_id1:javax.faces.ViewState:0\" value=\"-2012001184081372379:-8441513913055901993\" autocomplete=\"off\" />\\n</form>\\n<form id=\"formListaLic\" name=\"formListaLic\" method=\"post\" action=\"/muralic/index.xhtml;jsessionid=GWGCmsB-ph9Nlz_YcfufD5eQbUsl5-j7hcb23CxA.izar\" enctype=\"application/x-www-form-urlencoded\" style=\"margin-top:1em\">\\n<input type=\"hidden\" name=\"formListaLic\" value=\"formListaLic\" />\\n<div id=\"formListaLic:listaLic\" class=\"ui-datatable ui-widget ui-datatable-reflow\"><label id=\"formListaLic:listaLic_reflowDD_label\" for=\"formListaLic:listaLic_reflowDD\" class=\"ui-reflow-label\">Sort</label><select id=\"formListaLic:listaLic_reflowDD\" name=\"formListaLic:listaLic_reflowDD\" class=\"ui-reflow-dropdown ui-state-default\" autocomplete=\"off\"><option value=\"0_0\">Órgão Ascending</option><option value=\"0_1\">Órgão Descending</option><option value=\"1_0\">N° processo TCE Ascending</option><option value=\"1_1\">N° processo TCE Descending</option><option value=\"2_0\">Nº Procedimento Ascending</option><option value=\"2_1\">Nº Procedimento Descending</option><option value=\"3_0\">Dt abert/julg Ascending</option><option value=\"3_1\">Dt abert/julg Descending</option></select><div class=\"ui-datatable-header ui-widget-header ui-corner-top\">0 licitação filtrada</div><div id=\"formListaLic:listaLic_paginator_top\" class=\"ui-paginator ui-paginator-top ui-widget-header\" role=\"navigation\" aria-label=\"Pagination\"><span class=\"ui-paginator-current\">(1 of 1)</span><a href=\"#\" class=\"ui-paginator-first ui-state-default ui-corner-all ui-state-disabled\" aria-label=\"First Page\" tabindex=\"-1\"><span class=\"ui-icon ui-icon-seek-first\">F</span></a><a href=\"#\" class=\"ui-paginator-prev ui-state-default ui-corner-all ui-state-disabled\" aria-label=\"Previous Page\" tabindex=\"-1\"><span class=\"ui-icon ui-icon-seek-prev\">P</span></a><span class=\"ui-paginator-pages\"></span><a href=\"#\" class=\"ui-paginator-next ui-state-default ui-corner-all ui-state-disabled\" aria-label=\"Next Page\" tabindex=\"-1\"><span class=\"ui-icon ui-icon-seek-next\">N</span></a><a href=\"#\" class=\"ui-paginator-last ui-state-default ui-corner-all ui-state-disabled\" aria-label=\"Last Page\" tabindex=\"-1\"><span class=\"ui-icon ui-icon-seek-end\">E</span></a><label id=\"formListaLic:listaLic:j_id2_rppLabel\" for=\"formListaLic:listaLic:j_id2\" class=\"ui-paginator-rpp-label ui-helper-hidden\">Rows Per Page</label><select id=\"formListaLic:listaLic:j_id2\" name=\"formListaLic:listaLic_rppDD\" aria-labelledby=\"formListaLic:listaLic:j_id2_rppLabel\" class=\"ui-paginator-rpp-options ui-widget ui-state-default ui-corner-left\" value=\"15\" autocomplete=\"off\"><option value=\"15\" selected=\"selected\">15</option><option value=\"40\">40</option><option value=\"100\">100</option></select>\\n\\t\\t\\t\\t\\t\\t\\t\\t<div style=\"float: right\"><a href=\"#\" onclick=\"mojarra.jsfcljs(document.getElementById(\\'formListaLic\\'),{\\'formListaLic:listaLic:j_idt79\\':\\'formListaLic:listaLic:j_idt79\\'},\\'\\');return false\">\\n\\t\\t\\t\\t\\t\\t\\t\\t\\t\\t<span class=\"fa fa-file-excel-o\" title=\"exportar página atual para excel\">\\n\\t\\t\\t\\t\\t\\t\\t\\t\\t\\t</span></a><img id=\"formListaLic:listaLic:j_idt82\" width=\"5\" alt=\"\" src=\"/muralic/javax.faces.resource/spacer/dot_clear.gif.xhtml?ln=primefaces&amp;v=7.0\" /><a href=\"#\" onclick=\"mojarra.jsfcljs(document.getElementById(\\'formListaLic\\'),{\\'formListaLic:listaLic:j_idt83\\':\\'formListaLic:listaLic:j_idt83\\'},\\'\\');return false\">\\n\\t\\t\\t\\t\\t\\t\\t\\t\\t\\t<span class=\"fa fa-file-pdf-o\" title=\"exportar página atual para pdf\">\\n\\t\\t\\t\\t\\t\\t\\t\\t\\t\\t</span></a>\\n\\t\\t\\t\\t\\t\\t\\t\\t</div></div><div class=\"ui-datatable-tablewrapper\"><table role=\"grid\"><thead id=\"formListaLic:listaLic_head\"><tr role=\"row\"><th id=\"formListaLic:listaLic:j_idt87\" class=\"ui-state-default ui-sortable-column centralizado\" role=\"columnheader\" aria-label=\"Órgão\" scope=\"col\"><span class=\"ui-column-title\">Órgão</span><span class=\"ui-sortable-column-icon ui-icon ui-icon-carat-2-n-s\"></span></th><th id=\"formListaLic:listaLic:j_idt89\" class=\"ui-state-default ui-sortable-column centralizado\" role=\"columnheader\" aria-label=\"N° processo TCE\" scope=\"col\"><span class=\"ui-column-title\">N° processo TCE</span><span class=\"ui-sortable-column-icon ui-icon ui-icon-carat-2-n-s\"></span></th><th id=\"formListaLic:listaLic:j_idt91\" class=\"ui-state-default ui-sortable-column centralizado\" role=\"columnheader\" aria-label=\"Nº Procedimento\" scope=\"col\"><span class=\"ui-column-title\">Nº Procedimento</span><span class=\"ui-sortable-column-icon ui-icon ui-icon-carat-2-n-s\"></span></th><th id=\"formListaLic:listaLic:j_idt93\" class=\"ui-state-default\" role=\"columnheader\" aria-label=\"Objeto\" scope=\"col\"><span class=\"ui-column-title\">Objeto</span></th><th id=\"formListaLic:listaLic:j_idt95\" class=\"ui-state-default\" role=\"columnheader\" aria-label=\"Detalhe do objeto\" scope=\"col\"><span class=\"ui-column-title\">Detalhe do objeto</span></th><th id=\"formListaLic:listaLic:j_idt97\" class=\"ui-state-default ui-helper-hidden\" role=\"columnheader\" aria-label=\"Detalhe do objeto\" scope=\"col\"><span class=\"ui-column-title\">Detalhe do objeto</span></th><th id=\"formListaLic:listaLic:j_idt99\" class=\"ui-state-default ui-sortable-column centralizado\" role=\"columnheader\" aria-label=\"Dt abert/julg\" scope=\"col\" style=\"width:10%\"><span class=\"ui-column-title\">Dt abert/julg</span><span class=\"ui-sortable-column-icon ui-icon ui-icon-carat-2-n-s\"></span></th><th id=\"formListaLic:listaLic:j_idt101\" class=\"ui-state-default ui-helper-hidden\" role=\"columnheader\" aria-label=\"Data Última Publicação\" scope=\"col\"><span class=\"ui-column-title\">Data Última Publicação</span></th><th id=\"formListaLic:listaLic:j_idt103\" class=\"ui-state-default ui-helper-hidden\" role=\"columnheader\" aria-label=\"Data Adjudicação\" scope=\"col\"><span class=\"ui-column-title\">Data Adjudicação</span></th><th id=\"formListaLic:listaLic:j_idt105\" class=\"ui-state-default ui-helper-hidden\" role=\"columnheader\" aria-label=\"Data Homologação\" scope=\"col\"><span class=\"ui-column-title\">Data Homologação</span></th><th id=\"formListaLic:listaLic:j_idt107\" class=\"ui-state-default ui-helper-hidden\" role=\"columnheader\" aria-label=\"Data Finalização\" scope=\"col\"><span class=\"ui-column-title\">Data Finalização</span></th><th id=\"formListaLic:listaLic:j_idt109\" class=\"ui-state-default direita\" role=\"columnheader\" aria-label=\"Val previsto\" scope=\"col\" style=\"width:8%\"><span class=\"ui-column-title\">Val previsto</span></th><th id=\"formListaLic:listaLic:j_idt111\" class=\"ui-state-default direita\" role=\"columnheader\" aria-label=\"Val homologado\" scope=\"col\" style=\"width:8%\"><span class=\"ui-column-title\">Val homologado</span></th><th id=\"formListaLic:listaLic:j_idt113\" class=\"ui-state-default ui-helper-hidden centralizado\" role=\"columnheader\" aria-label=\"Status\" scope=\"col\"><span class=\"ui-column-title\">Status</span></th><th id=\"formListaLic:listaLic:j_idt115\" class=\"ui-state-default ui-helper-hidden\" role=\"columnheader\" aria-label=\"Data Cadastro\" scope=\"col\"><span class=\"ui-column-title\">Data Cadastro</span></th><th id=\"formListaLic:listaLic:j_idt117\" class=\"ui-state-default ui-helper-hidden\" role=\"columnheader\" aria-label=\"Data última atualização\" scope=\"col\"><span class=\"ui-column-title\">Data última atualização</span></th><th id=\"formListaLic:listaLic:j_idt119\" class=\"ui-state-default centralizado acoes\" role=\"columnheader\" aria-label=\"Ações\" scope=\"col\"><span class=\"ui-column-title\">Ações</span></th></tr></thead><tbody id=\"formListaLic:listaLic_data\" class=\"ui-datatable-data ui-widget-content\"><tr class=\"ui-widget-content ui-datatable-empty-message\"><td colspan=\"9\">Nenhum registro encontrado</td></tr></tbody></table></div><div id=\"formListaLic:listaLic_paginator_bottom\" class=\"ui-paginator ui-paginator-bottom ui-widget-header ui-corner-bottom\" role=\"navigation\" aria-label=\"Pagination\"><span class=\"ui-paginator-current\">(1 of 1)</span><a href=\"#\" class=\"ui-paginator-first ui-state-default ui-corner-all ui-state-disabled\" aria-label=\"First Page\" tabindex=\"-1\"><span class=\"ui-icon ui-icon-seek-first\">F</span></a><a href=\"#\" class=\"ui-paginator-prev ui-state-default ui-corner-all ui-state-disabled\" aria-label=\"Previous Page\" tabindex=\"-1\"><span class=\"ui-icon ui-icon-seek-prev\">P</span></a><span class=\"ui-paginator-pages\"></span><a href=\"#\" class=\"ui-paginator-next ui-state-default ui-corner-all ui-state-disabled\" aria-label=\"Next Page\" tabindex=\"-1\"><span class=\"ui-icon ui-icon-seek-next\">N</span></a><a href=\"#\" class=\"ui-paginator-last ui-state-default ui-corner-all ui-state-disabled\" aria-label=\"Last Page\" tabindex=\"-1\"><span class=\"ui-icon ui-icon-seek-end\">E</span></a><label id=\"formListaLic:listaLic:j_id3_rppLabel\" for=\"formListaLic:listaLic:j_id3\" class=\"ui-paginator-rpp-label ui-helper-hidden\">Rows Per Page</label><select id=\"formListaLic:listaLic:j_id3\" name=\"formListaLic:listaLic_rppDD\" aria-labelledby=\"formListaLic:listaLic:j_id3_rppLabel\" class=\"ui-paginator-rpp-options ui-widget ui-state-default ui-corner-left\" value=\"15\" autocomplete=\"off\"><option value=\"15\" selected=\"selected\">15</option><option value=\"40\">40</option><option value=\"100\">100</option></select>\\n\\t\\t\\t\\t\\t\\t\\t\\t<div style=\"float: right\"><a href=\"#\" onclick=\"mojarra.jsfcljs(document.getElementById(\\'formListaLic\\'),{\\'formListaLic:listaLic:j_idt79\\':\\'formListaLic:listaLic:j_idt79\\'},\\'\\');return false\">\\n\\t\\t\\t\\t\\t\\t\\t\\t\\t\\t<span class=\"fa fa-file-excel-o\" title=\"exportar página atual para excel\">\\n\\t\\t\\t\\t\\t\\t\\t\\t\\t\\t</span></a><img id=\"formListaLic:listaLic:j_idt82\" width=\"5\" alt=\"\" src=\"/muralic/javax.faces.resource/spacer/dot_clear.gif.xhtml?ln=primefaces&amp;v=7.0\" /><a href=\"#\" onclick=\"mojarra.jsfcljs(document.getElementById(\\'formListaLic\\'),{\\'formListaLic:listaLic:j_idt83\\':\\'formListaLic:listaLic:j_idt83\\'},\\'\\');return false\">\\n\\t\\t\\t\\t\\t\\t\\t\\t\\t\\t<span class=\"fa fa-file-pdf-o\" title=\"exportar página atual para pdf\">\\n\\t\\t\\t\\t\\t\\t\\t\\t\\t\\t</span></a>\\n\\t\\t\\t\\t\\t\\t\\t\\t</div></div></div><script id=\"formListaLic:listaLic_s\" type=\"text/javascript\">$(function(){PrimeFaces.cw(\"DataTable\",\"listaWidget\",{id:\"formListaLic:listaLic\",paginator:{id:[\\'formListaLic:listaLic_paginator_top\\',\\'formListaLic:listaLic_paginator_bottom\\'],rows:15,rowCount:0,page:0,currentPageTemplate:\\'({currentPage} of {totalPages})\\'},reflow:true,groupColumnIndexes:[],disableContextMenuIfEmpty:false,behaviors:{page:function(ext,event) {PrimeFaces.ab({s:\"formListaLic:listaLic\",e:\"page\",f:\"formListaLic\",p:\"formListaLic:listaLic\",onst:function(cfg){PF(\\'statusDialog\\').show();},onco:function(xhr,status,args){PF(\\'statusDialog\\').hide();}},ext);}}});});</script><input type=\"hidden\" name=\"javax.faces.ViewState\" id=\"j_id1:javax.faces.ViewState:1\" value=\"-2012001184081372379:-8441513913055901993\" autocomplete=\"off\" />\\n</form>\\n\\n\\t\\t\\t\\t</div>\\n\\t\\t\\t</div>\\n\\t\\t</div><div id=\"dialogoAguarde\" class=\"ui-dialog ui-widget ui-widget-content ui-corner-all ui-shadow ui-hidden-container\"><div class=\"ui-dialog-content ui-widget-content\" id=\"dialogoAguarde_content\">\\n\\t\\t\\t<div align=\"center\">\\n\\t\\t\\t\\t<h1>aguarde ...</h1><img id=\"j_idt127\" src=\"/muralic/javax.faces.resource/imagens/ajaxloadingcircle.gif.xhtml;jsessionid=GWGCmsB-ph9Nlz_YcfufD5eQbUsl5-j7hcb23CxA.izar\" alt=\"\" />\\n\\t\\t\\t</div></div></div><script id=\"dialogoAguarde_s\" type=\"text/javascript\">$(function(){PrimeFaces.cw(\"Dialog\",\"statusDialog\",{id:\"dialogoAguarde\",draggable:false,resizable:false,modal:true});});</script><div id=\"dialogDownload\" class=\"ui-dialog ui-widget ui-widget-content ui-corner-all ui-shadow ui-hidden-container\"><div class=\"ui-dialog-titlebar ui-widget-header ui-helper-clearfix ui-corner-top\"><span id=\"dialogDownload_title\" class=\"ui-dialog-title\">Baixar arquivos</span><a href=\"#\" class=\"ui-dialog-titlebar-icon ui-dialog-titlebar-close ui-corner-all\" aria-label=\"Close\"><span class=\"ui-icon ui-icon-closethick\"></span></a></div><div class=\"ui-dialog-content ui-widget-content\" id=\"dialogDownload_content\">\\n<form id=\"downloadArquivo\" name=\"downloadArquivo\" method=\"post\" action=\"/muralic/index.xhtml;jsessionid=GWGCmsB-ph9Nlz_YcfufD5eQbUsl5-j7hcb23CxA.izar\" enctype=\"application/x-www-form-urlencoded\">\\n<input type=\"hidden\" name=\"downloadArquivo\" value=\"downloadArquivo\" />\\n\\n\\n\\t\\t\\t\\t<div class=\"ui-fluid\">\\n\\t\\t\\t\\t\\t<div class=\"ui-g\">\\n\\t\\t\\t\\t\\t\\t<div class=\"ui-g-12\">\\n\\t\\t\\t\\t\\t\\t\\t<div class=\"card card-w-title\">\\n\\t\\t\\t\\t\\t\\t\\t\\t<h1>arquivos da licitação\\n\\t\\t\\t\\t\\t\\t\\t\\t\\t</h1><div id=\"downloadArquivo:j_idt130\" class=\"ui-datalist ui-widget arquivos-datalist\"><div id=\"downloadArquivo:j_idt130_content\" class=\"ui-datalist-content ui-widget-content\"><div class=\"ui-datalist-empty-message\">nenhum arquivo</div></div></div><script id=\"downloadArquivo:j_idt130_s\" type=\"text/javascript\">$(function(){PrimeFaces.cw(\"DataList\",\"widget_downloadArquivo_j_idt130\",{id:\"downloadArquivo:j_idt130\",paginator:{id:[\\'downloadArquivo:j_idt130_paginator_top\\',\\'downloadArquivo:j_idt130_paginator_bottom\\'],rows:7,rowCount:0,page:0,currentPageTemplate:\\'({currentPage} of {totalPages})\\',alwaysVisible:false}});});</script>\\n\\t\\t\\t\\t\\t\\t\\t</div>\\n\\t\\t\\t\\t\\t\\t</div>\\n\\t\\t\\t\\t\\t</div>\\n\\t\\t\\t\\t</div><input type=\"hidden\" name=\"javax.faces.ViewState\" id=\"j_id1:javax.faces.ViewState:2\" value=\"-2012001184081372379:-8441513913055901993\" autocomplete=\"off\" />\\n</form></div></div><script id=\"dialogDownload_s\" type=\"text/javascript\">$(function(){PrimeFaces.cw(\"Dialog\",\"dialogDownload\",{id:\"dialogDownload\",responsive:true});});</script>\\n\\t\\t</div>\\n\\t<style>\\n.layout-wrapper .layout-footer {\\n\\tbackground-color: #ffffff;\\n\\tborder-top: 1px solid #dee4e9;\\n\\tborder-bottom: 1px solid #dee4e9;\\n\\tpadding: 4px 6px;\\n}\\n</style>\\n\\t<div class=\"layout-footer clearfix\"><img id=\"j_idt143\" src=\"/muralic/javax.faces.resource/logo-tce-transparente.png.xhtml;jsessionid=GWGCmsB-ph9Nlz_YcfufD5eQbUsl5-j7hcb23CxA.izar?ln=imagens\" alt=\"\" style=\"width:3.5em\" />\\n\\t\\t<span style=\"vertical-align: super\">Tribunal de Contas do Estado do Piauí</span>\\n\\t\\t<div class=\"layout-footer-right\">\\n\\t\\t\\t<a href=\"https://www.facebook.com/pages/TCE-Tribunal-de-Contas-do-Estado-do-Piauí/\" target=\"_blank\"><i class=\"fa fa-facebook\"></i></a> <a href=\"https://twitter.com/tcepi\" target=\"_blank\"><i class=\"fa fa-twitter\"></i>\\n\\t\\t\\t</a>\\n\\t\\t</div>\\n\\t</div>\\n\\t</div><div id=\"j_idt150\" class=\"ui-dialog ui-widget ui-widget-content ui-corner-all ui-shadow ui-hidden-container\"><div class=\"ui-dialog-titlebar ui-widget-header ui-helper-clearfix ui-corner-top\"><span id=\"j_idt150_title\" class=\"ui-dialog-title\">baixando ...</span></div><div class=\"ui-dialog-content ui-widget-content\" id=\"j_idt150_content\"><img id=\"j_idt151\" src=\"/muralic/javax.faces.resource/ajaxloadingbar.gif.xhtml;jsessionid=GWGCmsB-ph9Nlz_YcfufD5eQbUsl5-j7hcb23CxA.izar?ln=imagens\" alt=\"\" /></div></div><script id=\"j_idt150_s\" type=\"text/javascript\">$(function(){PrimeFaces.cw(\"Dialog\",\"statusDownloadWidget\",{id:\"j_idt150\",draggable:false,resizable:false,modal:true});});</script>\\n\\n\\t<script type=\"text/javascript\">\\n\\t    function showStatus() {\\n\\t        PF(\\'statusDownloadWidget\\').show();\\n\\t    }\\n\\t    function hideStatus() {\\n\\t        PF(\\'statusDownloadWidget\\').hide();\\n\\t    }\\n\\t</script></body>\\n\\n</html>'"
            ]
          },
          "metadata": {
            "tags": []
          },
          "execution_count": 8
        }
      ]
    },
    {
      "cell_type": "markdown",
      "metadata": {
        "id": "MqD0wqE0PMbd",
        "colab_type": "text"
      },
      "source": [
        "## Mechanize\n",
        "\n",
        "É uma biblioteca para navegar pelas páginas de forma programática que facilita o preenchimento de formulários HTML e clique em links."
      ]
    },
    {
      "cell_type": "code",
      "metadata": {
        "id": "LWkDmjK6Km2K",
        "colab_type": "code",
        "outputId": "504372b1-1472-4f69-83a7-afce82215fda",
        "colab": {
          "base_uri": "https://localhost:8080/",
          "height": 190
        }
      },
      "source": [
        "!pip install mechanize\n",
        "'''Tem que instalar ela, pois não vem padrão no Colab'''"
      ],
      "execution_count": 0,
      "outputs": [
        {
          "output_type": "stream",
          "text": [
            "Collecting mechanize\n",
            "\u001b[?25l  Downloading https://files.pythonhosted.org/packages/13/08/77368b47ba2f9e0c03f33902ed2c8e0fa83d15d81dcf7fe102b40778d810/mechanize-0.4.5-py2.py3-none-any.whl (109kB)\n",
            "\r\u001b[K     |███                             | 10kB 16.1MB/s eta 0:00:01\r\u001b[K     |██████                          | 20kB 2.1MB/s eta 0:00:01\r\u001b[K     |█████████                       | 30kB 3.0MB/s eta 0:00:01\r\u001b[K     |████████████                    | 40kB 3.9MB/s eta 0:00:01\r\u001b[K     |███████████████                 | 51kB 2.5MB/s eta 0:00:01\r\u001b[K     |██████████████████              | 61kB 2.9MB/s eta 0:00:01\r\u001b[K     |█████████████████████           | 71kB 3.4MB/s eta 0:00:01\r\u001b[K     |████████████████████████        | 81kB 3.8MB/s eta 0:00:01\r\u001b[K     |███████████████████████████     | 92kB 3.0MB/s eta 0:00:01\r\u001b[K     |██████████████████████████████  | 102kB 3.3MB/s eta 0:00:01\r\u001b[K     |████████████████████████████████| 112kB 3.3MB/s \n",
            "\u001b[?25hRequirement already satisfied: html5lib>=0.999999999 in /usr/local/lib/python3.6/dist-packages (from mechanize) (1.0.1)\n",
            "Requirement already satisfied: six>=1.9 in /usr/local/lib/python3.6/dist-packages (from html5lib>=0.999999999->mechanize) (1.12.0)\n",
            "Requirement already satisfied: webencodings in /usr/local/lib/python3.6/dist-packages (from html5lib>=0.999999999->mechanize) (0.5.1)\n",
            "Installing collected packages: mechanize\n",
            "Successfully installed mechanize-0.4.5\n"
          ],
          "name": "stdout"
        },
        {
          "output_type": "execute_result",
          "data": {
            "text/plain": [
              "'Tem que instalar ela, pois não vem padrão no Colab'"
            ]
          },
          "metadata": {
            "tags": []
          },
          "execution_count": 18
        }
      ]
    },
    {
      "cell_type": "markdown",
      "metadata": {
        "id": "Lk8pHbKtfHhh",
        "colab_type": "text"
      },
      "source": [
        "### Formulario de busca das Licitações\n",
        "Deve preencher as  variaveis de interesse e dar o submit\n"
      ]
    },
    {
      "cell_type": "code",
      "metadata": {
        "id": "Hi2-OfMcPQDO",
        "colab_type": "code",
        "outputId": "23c2b41e-e8b5-4dea-b263-626ef06a0e99",
        "colab": {
          "base_uri": "https://localhost:8080/",
          "height": 34
        }
      },
      "source": [
        "url = \"https://sistemas.tce.pi.gov.br/muralic/\"\n",
        "\n",
        "import mechanize\n",
        "\n",
        "browser = mechanize.Browser()\n",
        "browser.set_handle_robots(False)\n",
        "browser.addheaders = [('User-agent', 'Firefox')]\n",
        "\n",
        "browser.open(url)\n",
        "\n",
        "forms = browser.forms()\n",
        "'''\n",
        "for i in forms[0].controls:\n",
        "  print(i.name)\n",
        "'''\n",
        "\n",
        "browser.select_form(name= \"formMural\")\n",
        "\n",
        "formMural = forms[0]\n",
        "formMural[\"formMural:status_input\"]  = ['0']\n",
        "formMural[\"formMural:dataAberturaInicial_input\"]  = \"10/05/2020\"\n",
        "formMural[\"formMural:dataAberturaFinal_input\"]  = \"15/05/2020\"\n",
        "'''\n",
        "formMural[\"formMural:j_idt39_input\"]  = ['1']\n",
        "formMural[\"formMural:esfera_input\"]  = ['1']\n",
        "#formMural[\"formMural:numProcedOuProcessoTCE\"]  = \"\"\n",
        "#formMural[\"formMural:j_idt49_input\"]  = ['1']\n",
        "formMural[\"formMural:mod_input\"]  = ['1']\n",
        "formMural[\"formMural:obj_input\"]  = ['1']\n",
        "formMural[\"formMural:tratamentoMeEpp_input\"]  = ['1']\n",
        "formMural[\"formMural:j_idt69\"]  = ['1']\n",
        "formMural[\"formMural:tipodoc_input\"]  = ['1']\n",
        "formMural[\"formMural:cnpj\"]  = ['1']\n",
        "'''\n",
        "browser.submit()\n"
      ],
      "execution_count": 0,
      "outputs": [
        {
          "output_type": "execute_result",
          "data": {
            "text/plain": [
              "<response_seek_wrapper at 0x7fe8a6063320 whose wrapped object = <closeable_response at 0x7fe8a5e795c0 whose fp = <_io.BufferedReader name=54>>>"
            ]
          },
          "metadata": {
            "tags": []
          },
          "execution_count": 19
        }
      ]
    },
    {
      "cell_type": "markdown",
      "metadata": {
        "id": "FCFhy_AVfyYS",
        "colab_type": "text"
      },
      "source": [
        "### Descrição das Variavéis do Formulario"
      ]
    },
    {
      "cell_type": "code",
      "metadata": {
        "id": "Xu8dZkdhP4YQ",
        "colab_type": "code",
        "colab": {}
      },
      "source": [
        "'''\n",
        "FormMural:\n",
        "\n",
        "formMural:tipoLic=[*1, 2, 3]      -> Licitações: abertas,finalizadas,todas\n",
        "\n",
        "formMural:dataAberturaInicial -> Data de Abertura Inicial\n",
        "\n",
        "formMural:dataAberturaFinal   -> Data de Abertura Final\n",
        "  \n",
        "formMural:esfera[*0, 1, 2]  -> Esfera gov: Municipal, Estadual, Todas\n",
        "  \n",
        "formMural:j_idt39[*1, 2]    -> Proc. TCE, Proc. Lic\n",
        "  \n",
        "formMural:numProcedOuProcessoTCE  -> Número do Proced Ou Processo TCE\n",
        "  \n",
        "formMural:j_idt47             -> Nome do Orgão, municipio, etc\n",
        "  \n",
        "formMural:j_idt49[on]     -> É registro de preço \n",
        "  \n",
        "formMural:mod[*, 1, 2, 3, 4, 5, 6, 7, 12, 13, 8, 9, 10, 11]\n",
        "  -> Modalidade: [Nenhum,Concorrência,Tomada de preço,Convite,Concurso,Leilão,Pregão,\n",
        "                  Pregão Eletrônico,Pregão Presencial,Internacional,Licitação RDC,Licitação Lei ,Outras]\n",
        "  \n",
        "formMural:obj[*, 1, 2, 3, 4, 5]       \n",
        "   ->Tipo objeto: [Obras e Serviços de Engenharia,Compra - Material Permanente,Compra - Material de Consumo,Outros serviços,Outros,Todos]\n",
        "  \n",
        "formMural:tratamentoMeEpp[*I, S, N]  -> Trat. ME/EPP: [Sim,Não,Indiferente]\n",
        "\n",
        "formMural:j_idt69  -> Desc. objeto\n",
        "  \n",
        "formMural:tipodoc[*1, 2] -> Tipo doc: [CPF,CNPJ]\n",
        "  \n",
        "formMural:cnpj -> Inserir CNPJ ou CPF\n",
        "  \n",
        "formListaLic:listaLic_rppDD=[*15, 40, 100]   -> Quantidade de Lic por página\n",
        "\n",
        "'''"
      ],
      "execution_count": 0,
      "outputs": []
    },
    {
      "cell_type": "markdown",
      "metadata": {
        "id": "fhtTxjQinxbA",
        "colab_type": "text"
      },
      "source": [
        "## BeautifulSoup\n",
        "Com a BeautifulSoup tudo será mais fácil, esta biblioteca do Python serve para extrairmos dados de HTML e XML, de forma fácil e descomplicada podemos acessar os 'nós' da estrutura do HTML da página ou até mesmo classes e pegar as informações\n"
      ]
    },
    {
      "cell_type": "code",
      "metadata": {
        "id": "3zBtoc9Vj9oy",
        "colab_type": "code",
        "outputId": "c1cf4702-9cf3-455d-b40d-66f4ff6045a7",
        "colab": {
          "base_uri": "https://localhost:8080/",
          "height": 34
        }
      },
      "source": [
        "# Importando a BeautifulSoup\n",
        "from bs4 import BeautifulSoup\n",
        "\n",
        "bs = BeautifulSoup(browser.response().read())\n",
        "\n",
        "# Imprimindo o título da página\n",
        "print(bs.title)"
      ],
      "execution_count": 0,
      "outputs": [
        {
          "output_type": "stream",
          "text": [
            "<title>Tribunal de Contas do Estado do Piauí</title>\n"
          ],
          "name": "stdout"
        }
      ]
    },
    {
      "cell_type": "markdown",
      "metadata": {
        "id": "vxoWecBggDOd",
        "colab_type": "text"
      },
      "source": [
        "### Scraping das Licitações da Primeira Página"
      ]
    },
    {
      "cell_type": "code",
      "metadata": {
        "id": "ysuunKiroMR0",
        "colab_type": "code",
        "outputId": "ac4fe3a3-ea67-40ad-b5ca-2af16caa8465",
        "colab": {
          "base_uri": "https://localhost:8080/",
          "height": 782
        }
      },
      "source": [
        "#Colunas da Tabela de Licitações\n",
        "base_de_dados = {\"Orgao\":[],\t\"N° processo TCE\":[],\t\"Nº Procedimento\":[],\t\"Objeto\":[]\t,\"Detalhe do objeto\":[],\t\"Dt abert/julg\":[],\t\"Val previsto\":[],\"Data Divulgacao\":[],\"Detalhes\":[]}\n",
        "dados_licitacao = [] \n",
        "link = \"\"\n",
        "\n",
        "for licitacao in bs.find_all(\"tr\",class_=\"ui-widget-content ui-datatable-even\"): #Para as licitações com o fundo escuro\n",
        "  for i in licitacao.find_all(role=\"gridcell\"):\n",
        "    dados_licitacao.append(i.text)\n",
        "    detalhes_button = i.find(\"button\")\n",
        "    if detalhes_button != None:\n",
        "      link = detalhes_button['onclick'].replace(\"window.open('\",\"\")\n",
        "      link = link.replace(\"','_blank')\",\"\")\n",
        "      link = \"https://sistemas.tce.pi.gov.br\"+link\n",
        "\n",
        "  base_de_dados[\"Orgao\"].append(dados_licitacao[0])\n",
        "  base_de_dados[\"N° processo TCE\"].append(dados_licitacao[1])\n",
        "  base_de_dados[\"Nº Procedimento\"].append(dados_licitacao[2])\n",
        "  base_de_dados[\"Objeto\"].append(dados_licitacao[3])\n",
        "  base_de_dados[\"Detalhe do objeto\"].append(dados_licitacao[5])\n",
        "  base_de_dados[\"Dt abert/julg\"].append(dados_licitacao[6])\n",
        "  base_de_dados[\"Data Divulgacao\"].append(dados_licitacao[7])\n",
        "  base_de_dados[\"Val previsto\"].append(dados_licitacao[11])\n",
        "  base_de_dados[\"Detalhes\"].append(link)\n",
        "  dados_licitacao = []\n",
        "  print(link,\"\\n-------------------\\n\")\n",
        "  link = \"\"\n",
        "\n",
        "link = \"\"\n",
        "for licitacao in bs.find_all(\"tr\",class_=\"ui-widget-content ui-datatable-odd\"):#Para as licitações com o fundo claro\n",
        "  for i in licitacao.find_all(role=\"gridcell\"):\n",
        "    dados_licitacao.append(i.text)\n",
        "    detalhes_button = i.find(\"button\")\n",
        "    if detalhes_button != None:\n",
        "      link = detalhes_button['onclick'].replace(\"window.open('\",\"\")\n",
        "      link = link.replace(\"','_blank')\",\"\")\n",
        "      link = \"https://sistemas.tce.pi.gov.br\"+link\n",
        "\n",
        "  base_de_dados[\"Orgao\"].append(dados_licitacao[0])\n",
        "  base_de_dados[\"N° processo TCE\"].append(dados_licitacao[1])\n",
        "  base_de_dados[\"Nº Procedimento\"].append(dados_licitacao[2])\n",
        "  base_de_dados[\"Objeto\"].append(dados_licitacao[3])\n",
        "  base_de_dados[\"Detalhe do objeto\"].append(dados_licitacao[5])\n",
        "  base_de_dados[\"Dt abert/julg\"].append(dados_licitacao[6])\n",
        "  base_de_dados[\"Data Divulgacao\"].append(dados_licitacao[7])\n",
        "  base_de_dados[\"Val previsto\"].append(dados_licitacao[11])\n",
        "  base_de_dados[\"Detalhes\"].append(link)\n",
        "  dados_licitacao = []\n",
        "  print(link,\"\\n-------------------\\n\")\n",
        "  link = \"\""
      ],
      "execution_count": 0,
      "outputs": [
        {
          "output_type": "stream",
          "text": [
            "https://sistemas.tce.pi.gov.br/muralic/detalhelicitacao.xhtml?id=352878 \n",
            "-------------------\n",
            "\n",
            "https://sistemas.tce.pi.gov.br/muralic/detalhelicitacao.xhtml?id=342263 \n",
            "-------------------\n",
            "\n",
            "https://sistemas.tce.pi.gov.br/muralic/detalhelicitacao.xhtml?id=352753 \n",
            "-------------------\n",
            "\n",
            "https://sistemas.tce.pi.gov.br/muralic/detalhelicitacao.xhtml?id=352797 \n",
            "-------------------\n",
            "\n",
            "https://sistemas.tce.pi.gov.br/muralic/detalhelicitacao.xhtml?id=352810 \n",
            "-------------------\n",
            "\n",
            "https://sistemas.tce.pi.gov.br/muralic/detalhelicitacao.xhtml?id=352864 \n",
            "-------------------\n",
            "\n",
            "https://sistemas.tce.pi.gov.br/muralic/detalhelicitacao.xhtml?id=352874 \n",
            "-------------------\n",
            "\n",
            "https://sistemas.tce.pi.gov.br/muralic/detalhelicitacao.xhtml?id=352898 \n",
            "-------------------\n",
            "\n",
            "https://sistemas.tce.pi.gov.br/muralic/detalhelicitacao.xhtml?id=353011 \n",
            "-------------------\n",
            "\n",
            "https://sistemas.tce.pi.gov.br/muralic/detalhelicitacao.xhtml?id=352644 \n",
            "-------------------\n",
            "\n",
            "https://sistemas.tce.pi.gov.br/muralic/detalhelicitacao.xhtml?id=352781 \n",
            "-------------------\n",
            "\n",
            "https://sistemas.tce.pi.gov.br/muralic/detalhelicitacao.xhtml?id=352800 \n",
            "-------------------\n",
            "\n",
            "https://sistemas.tce.pi.gov.br/muralic/detalhelicitacao.xhtml?id=352817 \n",
            "-------------------\n",
            "\n",
            "https://sistemas.tce.pi.gov.br/muralic/detalhelicitacao.xhtml?id=352897 \n",
            "-------------------\n",
            "\n",
            "https://sistemas.tce.pi.gov.br/muralic/detalhelicitacao.xhtml?id=352657 \n",
            "-------------------\n",
            "\n"
          ],
          "name": "stdout"
        }
      ]
    },
    {
      "cell_type": "markdown",
      "metadata": {
        "id": "pq79biapgvKW",
        "colab_type": "text"
      },
      "source": [
        "### Criando o **Dataframe** com as licitações encontradas"
      ]
    },
    {
      "cell_type": "code",
      "metadata": {
        "id": "HfQjk8wiu1Zn",
        "colab_type": "code",
        "outputId": "3758e826-9129-48b3-ce3d-70bbf0a01493",
        "colab": {
          "base_uri": "https://localhost:8080/",
          "height": 408
        }
      },
      "source": [
        "import pandas as pd\n",
        "\n",
        "df_licitacoes = pd.DataFrame(data=base_de_dados)\n",
        "\n",
        "df_licitacoes.head()"
      ],
      "execution_count": 0,
      "outputs": [
        {
          "output_type": "execute_result",
          "data": {
            "text/html": [
              "<div>\n",
              "<style scoped>\n",
              "    .dataframe tbody tr th:only-of-type {\n",
              "        vertical-align: middle;\n",
              "    }\n",
              "\n",
              "    .dataframe tbody tr th {\n",
              "        vertical-align: top;\n",
              "    }\n",
              "\n",
              "    .dataframe thead th {\n",
              "        text-align: right;\n",
              "    }\n",
              "</style>\n",
              "<table border=\"1\" class=\"dataframe\">\n",
              "  <thead>\n",
              "    <tr style=\"text-align: right;\">\n",
              "      <th></th>\n",
              "      <th>Orgao</th>\n",
              "      <th>N° processo TCE</th>\n",
              "      <th>Nº Procedimento</th>\n",
              "      <th>Objeto</th>\n",
              "      <th>Detalhe do objeto</th>\n",
              "      <th>Dt abert/julg</th>\n",
              "      <th>Val previsto</th>\n",
              "      <th>Data Divulgacao</th>\n",
              "      <th>Detalhes</th>\n",
              "    </tr>\n",
              "  </thead>\n",
              "  <tbody>\n",
              "    <tr>\n",
              "      <th>0</th>\n",
              "      <td>P. M. DE LAGOA ALEGRE</td>\n",
              "      <td>LW-003471/20</td>\n",
              "      <td>003/2020</td>\n",
              "      <td>Obras e Serviços de Engenharia</td>\n",
              "      <td>Contratação de empresa ramo pertinente, para a...</td>\n",
              "      <td>11/05/2020</td>\n",
              "      <td>200.289,00</td>\n",
              "      <td>07/05/2020 01:05</td>\n",
              "      <td>https://sistemas.tce.pi.gov.br/muralic/detalhe...</td>\n",
              "    </tr>\n",
              "    <tr>\n",
              "      <th>1</th>\n",
              "      <td>P. M. DE BOM JESUS</td>\n",
              "      <td>LW-002945/20</td>\n",
              "      <td>005/2020</td>\n",
              "      <td>Obras e Serviços de Engenharia</td>\n",
              "      <td>Contratação de empresa de engenharia destinada...</td>\n",
              "      <td>11/05/2020</td>\n",
              "      <td>300.266,16</td>\n",
              "      <td>23/04/2020 02:04</td>\n",
              "      <td>https://sistemas.tce.pi.gov.br/muralic/detalhe...</td>\n",
              "    </tr>\n",
              "    <tr>\n",
              "      <th>2</th>\n",
              "      <td>SECRETARIA DE ADMINISTRACAO DE TERESINA</td>\n",
              "      <td>LW-003379/20</td>\n",
              "      <td>PE 024/2020</td>\n",
              "      <td>Outros</td>\n",
              "      <td>O objeto da presente licitação é a escolha da ...</td>\n",
              "      <td>11/05/2020</td>\n",
              "      <td>56.641,00</td>\n",
              "      <td>22/04/2020 03:04</td>\n",
              "      <td>https://sistemas.tce.pi.gov.br/muralic/detalhe...</td>\n",
              "    </tr>\n",
              "    <tr>\n",
              "      <th>3</th>\n",
              "      <td>P. M. DE CARACOL</td>\n",
              "      <td>LW-003418/20</td>\n",
              "      <td>004/2020</td>\n",
              "      <td>Obras e Serviços de Engenharia</td>\n",
              "      <td>Contratação de empresa para Execução de Serviç...</td>\n",
              "      <td>11/05/2020</td>\n",
              "      <td>536.230,31</td>\n",
              "      <td>25/04/2020 02:04</td>\n",
              "      <td>https://sistemas.tce.pi.gov.br/muralic/detalhe...</td>\n",
              "    </tr>\n",
              "    <tr>\n",
              "      <th>4</th>\n",
              "      <td>SECRETARIA DE ADMINISTRACAO DE TERESINA</td>\n",
              "      <td>LW-003426/20</td>\n",
              "      <td>REL PE 012/2020</td>\n",
              "      <td>Outros</td>\n",
              "      <td>Este Pregão Eletronico tem como objeto a contr...</td>\n",
              "      <td>11/05/2020</td>\n",
              "      <td>930.711,59</td>\n",
              "      <td>27/04/2020 04:04</td>\n",
              "      <td>https://sistemas.tce.pi.gov.br/muralic/detalhe...</td>\n",
              "    </tr>\n",
              "  </tbody>\n",
              "</table>\n",
              "</div>"
            ],
            "text/plain": [
              "                                     Orgao  ...                                           Detalhes\n",
              "0                    P. M. DE LAGOA ALEGRE  ...  https://sistemas.tce.pi.gov.br/muralic/detalhe...\n",
              "1                       P. M. DE BOM JESUS  ...  https://sistemas.tce.pi.gov.br/muralic/detalhe...\n",
              "2  SECRETARIA DE ADMINISTRACAO DE TERESINA  ...  https://sistemas.tce.pi.gov.br/muralic/detalhe...\n",
              "3                         P. M. DE CARACOL  ...  https://sistemas.tce.pi.gov.br/muralic/detalhe...\n",
              "4  SECRETARIA DE ADMINISTRACAO DE TERESINA  ...  https://sistemas.tce.pi.gov.br/muralic/detalhe...\n",
              "\n",
              "[5 rows x 9 columns]"
            ]
          },
          "metadata": {
            "tags": []
          },
          "execution_count": 55
        }
      ]
    },
    {
      "cell_type": "markdown",
      "metadata": {
        "id": "whxhrLc8g4-r",
        "colab_type": "text"
      },
      "source": [
        "### Pegando as Datas de Publicação e Cadastro de cada Licitação"
      ]
    },
    {
      "cell_type": "code",
      "metadata": {
        "id": "EDXDLOkvNjhF",
        "colab_type": "code",
        "outputId": "f35b7f5b-5886-4c74-ccb9-17380912ee63",
        "colab": {
          "base_uri": "https://localhost:8080/",
          "height": 527
        }
      },
      "source": [
        "datas = {\"Data Publicacao\": [], \"Data Cadastro\":[],\"id_Licitacao\":[]}\n",
        "id_Orgao = 0\n",
        "\n",
        "for detalhe in df_licitacoes['Detalhes']:\n",
        "  bs_detalhe = BeautifulSoup(request_pag(detalhe))\n",
        "  publicacoes = bs_detalhe.find_all(\"table\",role=\"grid\")\n",
        "  d = publicacoes[1].find(\"tbody\").find_all(\"tr\")\n",
        "  for i in d:\n",
        "    a = i.find_all(\"td\")\n",
        "    #print( i.find_all(\"td\"),\"\\n\")\n",
        "    if a[2].text == \"Diário Oficial dos Municípios\":\n",
        "      datas[\"Data Publicacao\"].append(a[1].text)\n",
        "      datas[\"Data Cadastro\"].append(a[4].text)\n",
        "      datas[\"id_Licitacao\"].append(id_Orgao)\n",
        "  id_Orgao += 1"
      ],
      "execution_count": 0,
      "outputs": [
        {
          "output_type": "stream",
          "text": [
            "Status Code: 200 \n",
            "\n",
            "Status Code: 200 \n",
            "\n",
            "Status Code: 200 \n",
            "\n",
            "Status Code: 200 \n",
            "\n",
            "Status Code: 200 \n",
            "\n",
            "Status Code: 200 \n",
            "\n",
            "Status Code: 200 \n",
            "\n",
            "Status Code: 200 \n",
            "\n",
            "Status Code: 200 \n",
            "\n",
            "Status Code: 200 \n",
            "\n",
            "Status Code: 200 \n",
            "\n",
            "Status Code: 200 \n",
            "\n",
            "Status Code: 200 \n",
            "\n",
            "Status Code: 200 \n",
            "\n",
            "Status Code: 200 \n",
            "\n"
          ],
          "name": "stdout"
        }
      ]
    },
    {
      "cell_type": "code",
      "metadata": {
        "id": "cHKJQq0yNmHj",
        "colab_type": "code",
        "outputId": "f583bca8-cd5a-408d-9a27-e945d8983106",
        "colab": {
          "base_uri": "https://localhost:8080/",
          "height": 514
        }
      },
      "source": [
        "df_licitacoes_datas = pd.DataFrame(data=datas)\n",
        "df_licitacoes_datas.join(df_licitacoes[['Orgao',\"N° processo TCE\"]],on=\"id_Licitacao\")"
      ],
      "execution_count": 0,
      "outputs": [
        {
          "output_type": "execute_result",
          "data": {
            "text/html": [
              "<div>\n",
              "<style scoped>\n",
              "    .dataframe tbody tr th:only-of-type {\n",
              "        vertical-align: middle;\n",
              "    }\n",
              "\n",
              "    .dataframe tbody tr th {\n",
              "        vertical-align: top;\n",
              "    }\n",
              "\n",
              "    .dataframe thead th {\n",
              "        text-align: right;\n",
              "    }\n",
              "</style>\n",
              "<table border=\"1\" class=\"dataframe\">\n",
              "  <thead>\n",
              "    <tr style=\"text-align: right;\">\n",
              "      <th></th>\n",
              "      <th>Data Publicacao</th>\n",
              "      <th>Data Cadastro</th>\n",
              "      <th>id_Licitacao</th>\n",
              "      <th>Orgao</th>\n",
              "      <th>N° processo TCE</th>\n",
              "    </tr>\n",
              "  </thead>\n",
              "  <tbody>\n",
              "    <tr>\n",
              "      <th>0</th>\n",
              "      <td>04/05/2020</td>\n",
              "      <td>06/05/2020</td>\n",
              "      <td>0</td>\n",
              "      <td>P. M. DE LAGOA ALEGRE</td>\n",
              "      <td>LW-003471/20</td>\n",
              "    </tr>\n",
              "    <tr>\n",
              "      <th>1</th>\n",
              "      <td>18/03/2020</td>\n",
              "      <td>19/03/2020</td>\n",
              "      <td>1</td>\n",
              "      <td>P. M. DE BOM JESUS</td>\n",
              "      <td>LW-002945/20</td>\n",
              "    </tr>\n",
              "    <tr>\n",
              "      <th>2</th>\n",
              "      <td>22/04/2020</td>\n",
              "      <td>23/04/2020</td>\n",
              "      <td>1</td>\n",
              "      <td>P. M. DE BOM JESUS</td>\n",
              "      <td>LW-002945/20</td>\n",
              "    </tr>\n",
              "    <tr>\n",
              "      <th>3</th>\n",
              "      <td>22/04/2020</td>\n",
              "      <td>22/04/2020</td>\n",
              "      <td>2</td>\n",
              "      <td>SECRETARIA DE ADMINISTRACAO DE TERESINA</td>\n",
              "      <td>LW-003379/20</td>\n",
              "    </tr>\n",
              "    <tr>\n",
              "      <th>4</th>\n",
              "      <td>23/04/2020</td>\n",
              "      <td>24/04/2020</td>\n",
              "      <td>3</td>\n",
              "      <td>P. M. DE CARACOL</td>\n",
              "      <td>LW-003418/20</td>\n",
              "    </tr>\n",
              "    <tr>\n",
              "      <th>5</th>\n",
              "      <td>28/04/2020</td>\n",
              "      <td>29/04/2020</td>\n",
              "      <td>5</td>\n",
              "      <td>P. M. DE UNIAO</td>\n",
              "      <td>LW-003457/20</td>\n",
              "    </tr>\n",
              "    <tr>\n",
              "      <th>6</th>\n",
              "      <td>28/04/2020</td>\n",
              "      <td>29/04/2020</td>\n",
              "      <td>6</td>\n",
              "      <td>P. M. DE ALTOS</td>\n",
              "      <td>LW-003467/20</td>\n",
              "    </tr>\n",
              "    <tr>\n",
              "      <th>7</th>\n",
              "      <td>04/05/2020</td>\n",
              "      <td>04/05/2020</td>\n",
              "      <td>7</td>\n",
              "      <td>P. M. DE BAIXA GRANDE DO RIBEIRO</td>\n",
              "      <td>LW-003491/20</td>\n",
              "    </tr>\n",
              "    <tr>\n",
              "      <th>8</th>\n",
              "      <td>06/05/2020</td>\n",
              "      <td>08/05/2020</td>\n",
              "      <td>8</td>\n",
              "      <td>P. M. DE FLORIANO</td>\n",
              "      <td>LW-003576/20</td>\n",
              "    </tr>\n",
              "    <tr>\n",
              "      <th>9</th>\n",
              "      <td>07/04/2020</td>\n",
              "      <td>08/04/2020</td>\n",
              "      <td>9</td>\n",
              "      <td>P. M. DE BETANIA DO PIAUI</td>\n",
              "      <td>LW-003275/20</td>\n",
              "    </tr>\n",
              "    <tr>\n",
              "      <th>10</th>\n",
              "      <td>24/04/2020</td>\n",
              "      <td>27/04/2020</td>\n",
              "      <td>9</td>\n",
              "      <td>P. M. DE BETANIA DO PIAUI</td>\n",
              "      <td>LW-003275/20</td>\n",
              "    </tr>\n",
              "    <tr>\n",
              "      <th>11</th>\n",
              "      <td>22/04/2020</td>\n",
              "      <td>24/04/2020</td>\n",
              "      <td>10</td>\n",
              "      <td>P. M. DE BARRAS</td>\n",
              "      <td>LW-003402/20</td>\n",
              "    </tr>\n",
              "    <tr>\n",
              "      <th>12</th>\n",
              "      <td>23/04/2020</td>\n",
              "      <td>27/04/2020</td>\n",
              "      <td>12</td>\n",
              "      <td>P. M. DE SAO MIGUEL DO TAPUIO</td>\n",
              "      <td>LW-003433/20</td>\n",
              "    </tr>\n",
              "    <tr>\n",
              "      <th>13</th>\n",
              "      <td>04/05/2020</td>\n",
              "      <td>04/05/2020</td>\n",
              "      <td>13</td>\n",
              "      <td>P. M. DE BAIXA GRANDE DO RIBEIRO</td>\n",
              "      <td>LW-003490/20</td>\n",
              "    </tr>\n",
              "    <tr>\n",
              "      <th>14</th>\n",
              "      <td>09/04/2020</td>\n",
              "      <td>13/04/2020</td>\n",
              "      <td>14</td>\n",
              "      <td>SDU-CENTRO/NORTE - SUP. DE DES. URBANO / TERESINA</td>\n",
              "      <td>LW-003288/20</td>\n",
              "    </tr>\n",
              "  </tbody>\n",
              "</table>\n",
              "</div>"
            ],
            "text/plain": [
              "   Data Publicacao  ... N° processo TCE\n",
              "0       04/05/2020  ...    LW-003471/20\n",
              "1       18/03/2020  ...    LW-002945/20\n",
              "2       22/04/2020  ...    LW-002945/20\n",
              "3       22/04/2020  ...    LW-003379/20\n",
              "4       23/04/2020  ...    LW-003418/20\n",
              "5       28/04/2020  ...    LW-003457/20\n",
              "6       28/04/2020  ...    LW-003467/20\n",
              "7       04/05/2020  ...    LW-003491/20\n",
              "8       06/05/2020  ...    LW-003576/20\n",
              "9       07/04/2020  ...    LW-003275/20\n",
              "10      24/04/2020  ...    LW-003275/20\n",
              "11      22/04/2020  ...    LW-003402/20\n",
              "12      23/04/2020  ...    LW-003433/20\n",
              "13      04/05/2020  ...    LW-003490/20\n",
              "14      09/04/2020  ...    LW-003288/20\n",
              "\n",
              "[15 rows x 5 columns]"
            ]
          },
          "metadata": {
            "tags": []
          },
          "execution_count": 74
        }
      ]
    },
    {
      "cell_type": "code",
      "metadata": {
        "id": "rjJk-4PdYG_0",
        "colab_type": "code",
        "outputId": "5cba35f2-0998-47bf-8143-84a2f88d2be6",
        "colab": {
          "base_uri": "https://localhost:8080/",
          "height": 700
        }
      },
      "source": [
        "pip install workalendar"
      ],
      "execution_count": 0,
      "outputs": [
        {
          "output_type": "stream",
          "text": [
            "Collecting workalendar\n",
            "\u001b[?25l  Downloading https://files.pythonhosted.org/packages/9f/a4/e3d82674c70eb0fce432dd84b1271622fba9d0ecae0139b0c1c0ba40ab1c/workalendar-9.0.0-py3-none-any.whl (165kB)\n",
            "\u001b[K     |████████████████████████████████| 174kB 2.8MB/s \n",
            "\u001b[?25hRequirement already satisfied: setuptools>=1.0 in /usr/local/lib/python3.6/dist-packages (from workalendar) (46.3.0)\n",
            "Collecting pyluach\n",
            "  Downloading https://files.pythonhosted.org/packages/79/2c/4f413270a621dd6238fa67d9db81efd5edc02b44a5b1b8510552f643fc58/pyluach-1.0.1-py3-none-any.whl\n",
            "Requirement already satisfied: python-dateutil in /usr/local/lib/python3.6/dist-packages (from workalendar) (2.8.1)\n",
            "Collecting skyfield-data\n",
            "\u001b[?25l  Downloading https://files.pythonhosted.org/packages/67/6b/ec2228897402dfd479f6c36b1d3a13faec165a08141e410583b0dbe5f6f9/skyfield_data-1.0.0-py2.py3-none-any.whl (16.0MB)\n",
            "\u001b[K     |████████████████████████████████| 16.0MB 277kB/s \n",
            "\u001b[?25hCollecting skyfield\n",
            "\u001b[?25l  Downloading https://files.pythonhosted.org/packages/de/fa/2ad26ae620f90d78707027699b1003b4fd09b682c83b4c764bd52d59498a/skyfield-1.20.tar.gz (262kB)\n",
            "\u001b[K     |████████████████████████████████| 266kB 53.1MB/s \n",
            "\u001b[?25hCollecting pyCalverter\n",
            "  Downloading https://files.pythonhosted.org/packages/4f/5c/57c6853f7a5bc41fc9da7651ae67b9c76381083742613faa7381724081e9/pyCalverter-1.6.1.tar.gz\n",
            "Requirement already satisfied: pytz in /usr/local/lib/python3.6/dist-packages (from workalendar) (2018.9)\n",
            "Collecting lunardate\n",
            "  Downloading https://files.pythonhosted.org/packages/4e/7e/377a3cbba646ec0cf79433ef858881d809a3b87eb887b0901cb83c66a758/lunardate-0.2.0-py3-none-any.whl\n",
            "Requirement already satisfied: six>=1.5 in /usr/local/lib/python3.6/dist-packages (from python-dateutil->workalendar) (1.12.0)\n",
            "Requirement already satisfied: certifi>=2017.4.17 in /usr/local/lib/python3.6/dist-packages (from skyfield->workalendar) (2020.4.5.1)\n",
            "Collecting jplephem>=2.11\n",
            "  Downloading https://files.pythonhosted.org/packages/6c/5b/f3228acdd1b7bba4573d2ea816a8da3193c03b16fe1b4955892cf663abc2/jplephem-2.14.tar.gz\n",
            "Requirement already satisfied: numpy in /usr/local/lib/python3.6/dist-packages (from skyfield->workalendar) (1.18.4)\n",
            "Collecting sgp4>=2.2\n",
            "\u001b[?25l  Downloading https://files.pythonhosted.org/packages/d3/6e/d786a7fb48286a1550f1e9061a0c1382439819c63fc9b0922e1bc73839ec/sgp4-2.8-cp36-cp36m-manylinux2010_x86_64.whl (243kB)\n",
            "\u001b[K     |████████████████████████████████| 245kB 45.4MB/s \n",
            "\u001b[?25hBuilding wheels for collected packages: skyfield, pyCalverter, jplephem\n",
            "  Building wheel for skyfield (setup.py) ... \u001b[?25l\u001b[?25hdone\n",
            "  Created wheel for skyfield: filename=skyfield-1.20-cp36-none-any.whl size=297373 sha256=f659e7dd7453c411972b915ac2e4a484fb11451a7d3086eb1363c026e20e8555\n",
            "  Stored in directory: /root/.cache/pip/wheels/4d/7b/39/af56a46f6f59729c897abc8dcd16e40656aaff99b3f4481823\n",
            "  Building wheel for pyCalverter (setup.py) ... \u001b[?25l\u001b[?25hdone\n",
            "  Created wheel for pyCalverter: filename=pyCalverter-1.6.1-cp36-none-any.whl size=4201 sha256=26678232841968bee5442eeb9fd13138c5897bf6268116dc9faff9d7842c4aff\n",
            "  Stored in directory: /root/.cache/pip/wheels/77/4d/86/db4ff4eca6178dbbd5a365d095f97f6021e2a48f09908be79c\n",
            "  Building wheel for jplephem (setup.py) ... \u001b[?25l\u001b[?25hdone\n",
            "  Created wheel for jplephem: filename=jplephem-2.14-cp36-none-any.whl size=45388 sha256=ee741bc4e4c3040039e399022f19a5455cb1b9d6b107542ace9187d8e21bb4b0\n",
            "  Stored in directory: /root/.cache/pip/wheels/cb/5e/34/8bebf91e6563267b99c908325b7cc5df4d24c7826ce174db19\n",
            "Successfully built skyfield pyCalverter jplephem\n",
            "Installing collected packages: pyluach, skyfield-data, jplephem, sgp4, skyfield, pyCalverter, lunardate, workalendar\n",
            "Successfully installed jplephem-2.14 lunardate-0.2.0 pyCalverter-1.6.1 pyluach-1.0.1 sgp4-2.8 skyfield-1.20 skyfield-data-1.0.0 workalendar-9.0.0\n"
          ],
          "name": "stdout"
        }
      ]
    },
    {
      "cell_type": "code",
      "metadata": {
        "id": "T2UBMY9gUbgv",
        "colab_type": "code",
        "outputId": "35c9f26c-7f00-49b5-a97c-27025a7555f3",
        "colab": {
          "base_uri": "https://localhost:8080/",
          "height": 187
        }
      },
      "source": [
        "from  datetime import date\n",
        "from workalendar.america import Brazil #Biblioteca que retorna todo o calendario de determinado ano\n",
        "\n",
        "cal = Brazil()\n",
        "cal.holidays(2020)"
      ],
      "execution_count": 0,
      "outputs": [
        {
          "output_type": "execute_result",
          "data": {
            "text/plain": [
              "[(datetime.date(2020, 1, 1), 'New year'),\n",
              " (datetime.date(2020, 4, 12), 'Easter Sunday'),\n",
              " (datetime.date(2020, 4, 21), \"Tiradentes' Day\"),\n",
              " (datetime.date(2020, 5, 1), 'Labour Day'),\n",
              " (datetime.date(2020, 9, 7), 'Independence Day'),\n",
              " (datetime.date(2020, 10, 12), 'Our Lady of Aparecida'),\n",
              " (datetime.date(2020, 11, 2), \"All Souls' Day\"),\n",
              " (datetime.date(2020, 11, 15), 'Republic Day'),\n",
              " (datetime.date(2020, 11, 20), 'Consciência Negra'),\n",
              " (datetime.date(2020, 12, 25), 'Christmas Day')]"
            ]
          },
          "metadata": {
            "tags": []
          },
          "execution_count": 56
        }
      ]
    },
    {
      "cell_type": "code",
      "metadata": {
        "id": "K1mrZXkeZn8P",
        "colab_type": "code",
        "colab": {}
      },
      "source": [
        "licitacoes_validas = []\n",
        "dias_uteis = []\n",
        "ids = []\n",
        "from datetime import datetime\n",
        "for i,j, id_L  in zip(df_licitacoes_datas['Data Publicacao'],df_licitacoes_datas['Data Cadastro'],df_licitacoes_datas['id_Licitacao']):\n",
        "  if id_L  in ids:\n",
        "    pass\n",
        "  d_publi = datetime.strptime(i, '%d/%m/%Y').date()\n",
        "\n",
        "  d_cadastrada = datetime.strptime(j, '%d/%m/%Y').date()\n",
        "\n",
        "  dia_util = cal.add_working_days(d_publi, 1)\n",
        "\n",
        "  dias_uteis.append(dia_util.strftime(\"%d/%m/%Y\"))\n",
        "  licitacoes_validas.append(dia_util == d_cadastrada)\n",
        "  ids.append(id_L)\n"
      ],
      "execution_count": 0,
      "outputs": []
    },
    {
      "cell_type": "code",
      "metadata": {
        "id": "uRd60XQMYFNr",
        "colab_type": "code",
        "colab": {}
      },
      "source": [
        "df_licitacoes['Licitacoes Validas'] = licitacoes_validas #True para Validas - False para invalidas\n",
        "df_licitacoes['Dia Util'] = dias_uteis #Proximo dia útil após a data de publicação"
      ],
      "execution_count": 0,
      "outputs": []
    },
    {
      "cell_type": "markdown",
      "metadata": {
        "id": "R5q2PdgRiIkt",
        "colab_type": "text"
      },
      "source": [
        "## Apresentação do Dataframe Final\n"
      ]
    },
    {
      "cell_type": "code",
      "metadata": {
        "id": "qgEkL6tcYffD",
        "colab_type": "code",
        "outputId": "f78c8b1e-2f5b-4baf-c51c-1413b000e801",
        "colab": {
          "base_uri": "https://localhost:8080/",
          "height": 646
        }
      },
      "source": [
        "df_licitacoes.head(5)"
      ],
      "execution_count": 0,
      "outputs": [
        {
          "output_type": "execute_result",
          "data": {
            "text/html": [
              "<div>\n",
              "<style scoped>\n",
              "    .dataframe tbody tr th:only-of-type {\n",
              "        vertical-align: middle;\n",
              "    }\n",
              "\n",
              "    .dataframe tbody tr th {\n",
              "        vertical-align: top;\n",
              "    }\n",
              "\n",
              "    .dataframe thead th {\n",
              "        text-align: right;\n",
              "    }\n",
              "</style>\n",
              "<table border=\"1\" class=\"dataframe\">\n",
              "  <thead>\n",
              "    <tr style=\"text-align: right;\">\n",
              "      <th></th>\n",
              "      <th>Orgao</th>\n",
              "      <th>N° processo TCE</th>\n",
              "      <th>Nº Procedimento</th>\n",
              "      <th>Objeto</th>\n",
              "      <th>Detalhe do objeto</th>\n",
              "      <th>Dt abert/julg</th>\n",
              "      <th>Val previsto</th>\n",
              "      <th>Data Divulgacao</th>\n",
              "      <th>Detalhes</th>\n",
              "      <th>Licitacoes Validas</th>\n",
              "      <th>Dia Util</th>\n",
              "    </tr>\n",
              "    <tr>\n",
              "      <th>id_Licitacao</th>\n",
              "      <th></th>\n",
              "      <th></th>\n",
              "      <th></th>\n",
              "      <th></th>\n",
              "      <th></th>\n",
              "      <th></th>\n",
              "      <th></th>\n",
              "      <th></th>\n",
              "      <th></th>\n",
              "      <th></th>\n",
              "      <th></th>\n",
              "    </tr>\n",
              "  </thead>\n",
              "  <tbody>\n",
              "    <tr>\n",
              "      <th>0</th>\n",
              "      <td>P. M. DE LAGOA ALEGRE</td>\n",
              "      <td>LW-003471/20</td>\n",
              "      <td>003/2020</td>\n",
              "      <td>Obras e Serviços de Engenharia</td>\n",
              "      <td>Contratação de empresa ramo pertinente, para a...</td>\n",
              "      <td>11/05/2020</td>\n",
              "      <td>200.289,00</td>\n",
              "      <td>07/05/2020 01:05</td>\n",
              "      <td>https://sistemas.tce.pi.gov.br/muralic/detalhe...</td>\n",
              "      <td>False</td>\n",
              "      <td>05/05/2020</td>\n",
              "    </tr>\n",
              "    <tr>\n",
              "      <th>1</th>\n",
              "      <td>P. M. DE BOM JESUS</td>\n",
              "      <td>LW-002945/20</td>\n",
              "      <td>005/2020</td>\n",
              "      <td>Obras e Serviços de Engenharia</td>\n",
              "      <td>Contratação de empresa de engenharia destinada...</td>\n",
              "      <td>11/05/2020</td>\n",
              "      <td>300.266,16</td>\n",
              "      <td>23/04/2020 02:04</td>\n",
              "      <td>https://sistemas.tce.pi.gov.br/muralic/detalhe...</td>\n",
              "      <td>True</td>\n",
              "      <td>19/03/2020</td>\n",
              "    </tr>\n",
              "    <tr>\n",
              "      <th>2</th>\n",
              "      <td>SECRETARIA DE ADMINISTRACAO DE TERESINA</td>\n",
              "      <td>LW-003379/20</td>\n",
              "      <td>PE 024/2020</td>\n",
              "      <td>Outros</td>\n",
              "      <td>O objeto da presente licitação é a escolha da ...</td>\n",
              "      <td>11/05/2020</td>\n",
              "      <td>56.641,00</td>\n",
              "      <td>22/04/2020 03:04</td>\n",
              "      <td>https://sistemas.tce.pi.gov.br/muralic/detalhe...</td>\n",
              "      <td>True</td>\n",
              "      <td>23/04/2020</td>\n",
              "    </tr>\n",
              "    <tr>\n",
              "      <th>3</th>\n",
              "      <td>P. M. DE CARACOL</td>\n",
              "      <td>LW-003418/20</td>\n",
              "      <td>004/2020</td>\n",
              "      <td>Obras e Serviços de Engenharia</td>\n",
              "      <td>Contratação de empresa para Execução de Serviç...</td>\n",
              "      <td>11/05/2020</td>\n",
              "      <td>536.230,31</td>\n",
              "      <td>25/04/2020 02:04</td>\n",
              "      <td>https://sistemas.tce.pi.gov.br/muralic/detalhe...</td>\n",
              "      <td>False</td>\n",
              "      <td>23/04/2020</td>\n",
              "    </tr>\n",
              "    <tr>\n",
              "      <th>4</th>\n",
              "      <td>SECRETARIA DE ADMINISTRACAO DE TERESINA</td>\n",
              "      <td>LW-003426/20</td>\n",
              "      <td>REL PE 012/2020</td>\n",
              "      <td>Outros</td>\n",
              "      <td>Este Pregão Eletronico tem como objeto a contr...</td>\n",
              "      <td>11/05/2020</td>\n",
              "      <td>930.711,59</td>\n",
              "      <td>27/04/2020 04:04</td>\n",
              "      <td>https://sistemas.tce.pi.gov.br/muralic/detalhe...</td>\n",
              "      <td>True</td>\n",
              "      <td>24/04/2020</td>\n",
              "    </tr>\n",
              "  </tbody>\n",
              "</table>\n",
              "</div>"
            ],
            "text/plain": [
              "                                                Orgao  ...    Dia Util\n",
              "id_Licitacao                                           ...            \n",
              "0                               P. M. DE LAGOA ALEGRE  ...  05/05/2020\n",
              "1                                  P. M. DE BOM JESUS  ...  19/03/2020\n",
              "2             SECRETARIA DE ADMINISTRACAO DE TERESINA  ...  23/04/2020\n",
              "3                                    P. M. DE CARACOL  ...  23/04/2020\n",
              "4             SECRETARIA DE ADMINISTRACAO DE TERESINA  ...  24/04/2020\n",
              "\n",
              "[5 rows x 11 columns]"
            ]
          },
          "metadata": {
            "tags": []
          },
          "execution_count": 79
        }
      ]
    },
    {
      "cell_type": "code",
      "metadata": {
        "id": "gtZdLB6MknIb",
        "colab_type": "code",
        "outputId": "91ee0521-a47b-4fae-83f8-a48889b6ecf0",
        "colab": {
          "base_uri": "https://localhost:8080/",
          "height": 545
        }
      },
      "source": [
        "df_licitacoes[['N° processo TCE','Orgao','Licitacoes Validas']]"
      ],
      "execution_count": 0,
      "outputs": [
        {
          "output_type": "execute_result",
          "data": {
            "text/html": [
              "<div>\n",
              "<style scoped>\n",
              "    .dataframe tbody tr th:only-of-type {\n",
              "        vertical-align: middle;\n",
              "    }\n",
              "\n",
              "    .dataframe tbody tr th {\n",
              "        vertical-align: top;\n",
              "    }\n",
              "\n",
              "    .dataframe thead th {\n",
              "        text-align: right;\n",
              "    }\n",
              "</style>\n",
              "<table border=\"1\" class=\"dataframe\">\n",
              "  <thead>\n",
              "    <tr style=\"text-align: right;\">\n",
              "      <th></th>\n",
              "      <th>N° processo TCE</th>\n",
              "      <th>Orgao</th>\n",
              "      <th>Licitacoes Validas</th>\n",
              "    </tr>\n",
              "    <tr>\n",
              "      <th>id_Licitacao</th>\n",
              "      <th></th>\n",
              "      <th></th>\n",
              "      <th></th>\n",
              "    </tr>\n",
              "  </thead>\n",
              "  <tbody>\n",
              "    <tr>\n",
              "      <th>0</th>\n",
              "      <td>LW-003471/20</td>\n",
              "      <td>P. M. DE LAGOA ALEGRE</td>\n",
              "      <td>False</td>\n",
              "    </tr>\n",
              "    <tr>\n",
              "      <th>1</th>\n",
              "      <td>LW-002945/20</td>\n",
              "      <td>P. M. DE BOM JESUS</td>\n",
              "      <td>True</td>\n",
              "    </tr>\n",
              "    <tr>\n",
              "      <th>2</th>\n",
              "      <td>LW-003379/20</td>\n",
              "      <td>SECRETARIA DE ADMINISTRACAO DE TERESINA</td>\n",
              "      <td>True</td>\n",
              "    </tr>\n",
              "    <tr>\n",
              "      <th>3</th>\n",
              "      <td>LW-003418/20</td>\n",
              "      <td>P. M. DE CARACOL</td>\n",
              "      <td>False</td>\n",
              "    </tr>\n",
              "    <tr>\n",
              "      <th>4</th>\n",
              "      <td>LW-003426/20</td>\n",
              "      <td>SECRETARIA DE ADMINISTRACAO DE TERESINA</td>\n",
              "      <td>True</td>\n",
              "    </tr>\n",
              "    <tr>\n",
              "      <th>5</th>\n",
              "      <td>LW-003457/20</td>\n",
              "      <td>P. M. DE UNIAO</td>\n",
              "      <td>True</td>\n",
              "    </tr>\n",
              "    <tr>\n",
              "      <th>6</th>\n",
              "      <td>LW-003467/20</td>\n",
              "      <td>P. M. DE ALTOS</td>\n",
              "      <td>True</td>\n",
              "    </tr>\n",
              "    <tr>\n",
              "      <th>7</th>\n",
              "      <td>LW-003491/20</td>\n",
              "      <td>P. M. DE BAIXA GRANDE DO RIBEIRO</td>\n",
              "      <td>False</td>\n",
              "    </tr>\n",
              "    <tr>\n",
              "      <th>8</th>\n",
              "      <td>LW-003576/20</td>\n",
              "      <td>P. M. DE FLORIANO</td>\n",
              "      <td>False</td>\n",
              "    </tr>\n",
              "    <tr>\n",
              "      <th>9</th>\n",
              "      <td>LW-003275/20</td>\n",
              "      <td>P. M. DE BETANIA DO PIAUI</td>\n",
              "      <td>True</td>\n",
              "    </tr>\n",
              "    <tr>\n",
              "      <th>10</th>\n",
              "      <td>LW-003402/20</td>\n",
              "      <td>P. M. DE BARRAS</td>\n",
              "      <td>True</td>\n",
              "    </tr>\n",
              "    <tr>\n",
              "      <th>11</th>\n",
              "      <td>LW-003421/20</td>\n",
              "      <td>FUNDAÇÃO MUNICIPAL DE SAUDE DE TERESINA</td>\n",
              "      <td>False</td>\n",
              "    </tr>\n",
              "    <tr>\n",
              "      <th>12</th>\n",
              "      <td>LW-003433/20</td>\n",
              "      <td>P. M. DE SAO MIGUEL DO TAPUIO</td>\n",
              "      <td>False</td>\n",
              "    </tr>\n",
              "    <tr>\n",
              "      <th>13</th>\n",
              "      <td>LW-003490/20</td>\n",
              "      <td>P. M. DE BAIXA GRANDE DO RIBEIRO</td>\n",
              "      <td>False</td>\n",
              "    </tr>\n",
              "    <tr>\n",
              "      <th>14</th>\n",
              "      <td>LW-003288/20</td>\n",
              "      <td>SDU-CENTRO/NORTE - SUP. DE DES. URBANO / TERESINA</td>\n",
              "      <td>False</td>\n",
              "    </tr>\n",
              "  </tbody>\n",
              "</table>\n",
              "</div>"
            ],
            "text/plain": [
              "             N° processo TCE  ... Licitacoes Validas\n",
              "id_Licitacao                  ...                   \n",
              "0               LW-003471/20  ...              False\n",
              "1               LW-002945/20  ...               True\n",
              "2               LW-003379/20  ...               True\n",
              "3               LW-003418/20  ...              False\n",
              "4               LW-003426/20  ...               True\n",
              "5               LW-003457/20  ...               True\n",
              "6               LW-003467/20  ...               True\n",
              "7               LW-003491/20  ...              False\n",
              "8               LW-003576/20  ...              False\n",
              "9               LW-003275/20  ...               True\n",
              "10              LW-003402/20  ...               True\n",
              "11              LW-003421/20  ...              False\n",
              "12              LW-003433/20  ...              False\n",
              "13              LW-003490/20  ...              False\n",
              "14              LW-003288/20  ...              False\n",
              "\n",
              "[15 rows x 3 columns]"
            ]
          },
          "metadata": {
            "tags": []
          },
          "execution_count": 83
        }
      ]
    },
    {
      "cell_type": "code",
      "metadata": {
        "id": "5S_HPFBRKuBC",
        "colab_type": "code",
        "outputId": "bcaa41e5-fc1b-4a21-c682-aa5c8ad86109",
        "colab": {
          "base_uri": "https://localhost:8080/",
          "height": 289
        }
      },
      "source": [
        "df_licitacoes['Detalhes']"
      ],
      "execution_count": 0,
      "outputs": [
        {
          "output_type": "execute_result",
          "data": {
            "text/plain": [
              "0     https://sistemas.tce.pi.gov.br/muralic/detalhe...\n",
              "1     https://sistemas.tce.pi.gov.br/muralic/detalhe...\n",
              "2     https://sistemas.tce.pi.gov.br/muralic/detalhe...\n",
              "3     https://sistemas.tce.pi.gov.br/muralic/detalhe...\n",
              "4     https://sistemas.tce.pi.gov.br/muralic/detalhe...\n",
              "5     https://sistemas.tce.pi.gov.br/muralic/detalhe...\n",
              "6     https://sistemas.tce.pi.gov.br/muralic/detalhe...\n",
              "7     https://sistemas.tce.pi.gov.br/muralic/detalhe...\n",
              "8     https://sistemas.tce.pi.gov.br/muralic/detalhe...\n",
              "9     https://sistemas.tce.pi.gov.br/muralic/detalhe...\n",
              "10    https://sistemas.tce.pi.gov.br/muralic/detalhe...\n",
              "11    https://sistemas.tce.pi.gov.br/muralic/detalhe...\n",
              "12    https://sistemas.tce.pi.gov.br/muralic/detalhe...\n",
              "13    https://sistemas.tce.pi.gov.br/muralic/detalhe...\n",
              "14    https://sistemas.tce.pi.gov.br/muralic/detalhe...\n",
              "Name: Detalhes, dtype: object"
            ]
          },
          "metadata": {
            "tags": []
          },
          "execution_count": 32
        }
      ]
    },
    {
      "cell_type": "code",
      "metadata": {
        "id": "tiJB_hRzKymY",
        "colab_type": "code",
        "colab": {}
      },
      "source": [
        ""
      ],
      "execution_count": 0,
      "outputs": []
    }
  ]
}