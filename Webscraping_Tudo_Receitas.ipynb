{
  "nbformat": 4,
  "nbformat_minor": 0,
  "metadata": {
    "kernelspec": {
      "display_name": "Python 3",
      "language": "python",
      "name": "python3"
    },
    "language_info": {
      "codemirror_mode": {
        "name": "ipython",
        "version": 3
      },
      "file_extension": ".py",
      "mimetype": "text/x-python",
      "name": "python",
      "nbconvert_exporter": "python",
      "pygments_lexer": "ipython3",
      "version": "3.7.3"
    },
    "colab": {
      "name": "Webscraping Tudo Receitas.ipynb",
      "provenance": [],
      "collapsed_sections": [],
      "toc_visible": true,
      "include_colab_link": true
    }
  },
  "cells": [
    {
      "cell_type": "markdown",
      "metadata": {
        "id": "view-in-github",
        "colab_type": "text"
      },
      "source": [
        "<a href=\"https://colab.research.google.com/github/SamuelSSan28/Web_Scraping_Python/blob/master/Webscraping_Tudo_Receitas.ipynb\" target=\"_parent\"><img src=\"https://colab.research.google.com/assets/colab-badge.svg\" alt=\"Open In Colab\"/></a>"
      ]
    },
    {
      "cell_type": "markdown",
      "metadata": {
        "id": "e6X2b28Hz0T6",
        "colab_type": "text"
      },
      "source": [
        "# Buscando por dificuldade\n"
      ]
    },
    {
      "cell_type": "markdown",
      "metadata": {
        "id": "Q0UoXQNC7aYG",
        "colab_type": "text"
      },
      "source": [
        "Bibliotecas Necesárias\n"
      ]
    },
    {
      "cell_type": "code",
      "metadata": {
        "colab_type": "code",
        "id": "ZdLxM6In7YYg",
        "colab": {}
      },
      "source": [
        "import requests\n",
        "import pandas as pd\n",
        "from bs4 import BeautifulSoup"
      ],
      "execution_count": 0,
      "outputs": []
    },
    {
      "cell_type": "markdown",
      "metadata": {
        "id": "tgDIhSIU7iut",
        "colab_type": "text"
      },
      "source": [
        "Função que retorna o html da página solicitada\n"
      ]
    },
    {
      "cell_type": "code",
      "metadata": {
        "colab_type": "code",
        "id": "kfFu3Er-7g59",
        "colab": {}
      },
      "source": [
        "def request_pag(link):\n",
        "    html = requests.get(link)\n",
        "    \n",
        "    return html.text"
      ],
      "execution_count": 0,
      "outputs": []
    },
    {
      "cell_type": "markdown",
      "metadata": {
        "id": "VPrvY7Yl7I32",
        "colab_type": "text"
      },
      "source": [
        "Links das paginas por dificuldade"
      ]
    },
    {
      "cell_type": "code",
      "metadata": {
        "id": "G5Gt4VYk0Ey-",
        "colab_type": "code",
        "colab": {}
      },
      "source": [
        "# Criando na página inicial utilizando os pages \n",
        "url_dificuldade_baixa = \"https://www.tudoreceitas.com/pesquisa/difficulty_id/2/pag/\"\n",
        "url_dificuldade_media = \"https://www.tudoreceitas.com/pesquisa/difficulty_id/3/pag/\"\n",
        "url_dificuldade_dificil = \"https://www.tudoreceitas.com/pesquisa/difficulty_id/4/pag/\""
      ],
      "execution_count": 0,
      "outputs": []
    },
    {
      "cell_type": "markdown",
      "metadata": {
        "id": "xuLEqaA-7CHQ",
        "colab_type": "text"
      },
      "source": [
        "Função que converte o Tempo"
      ]
    },
    {
      "cell_type": "code",
      "metadata": {
        "colab_type": "code",
        "outputId": "d95564cc-b8bc-4127-c309-39569a21b2e6",
        "id": "TigwcFi_7AkB",
        "colab": {
          "base_uri": "https://localhost:8080/",
          "height": 34
        }
      },
      "source": [
        "from datetime import timedelta\n",
        "import re\n",
        "\n",
        "UNITS = {'s':'seconds', 'm':'minutes', 'h':'hours', 'd':'days', 'w':'weeks'}\n",
        "\n",
        "def convert_to_minutes(s):\n",
        "    return int(timedelta(**{\n",
        "        UNITS.get(m.group('unit').lower(), 'seconds'): int(m.group('val'))\n",
        "        for m in re.finditer(r'(?P<val>\\d+)(?P<unit>[smhdw]?)', s, flags=re.I)\n",
        "    }).total_seconds()/60)\n",
        "\n",
        "convert_to_minutes(\"1h 5m\")"
      ],
      "execution_count": 19,
      "outputs": [
        {
          "output_type": "execute_result",
          "data": {
            "text/plain": [
              "65"
            ]
          },
          "metadata": {
            "tags": []
          },
          "execution_count": 19
        }
      ]
    },
    {
      "cell_type": "markdown",
      "metadata": {
        "id": "EXfJ_bP225oX",
        "colab_type": "text"
      },
      "source": [
        "Buscando receitas com Dificuldade Baixa\n"
      ]
    },
    {
      "cell_type": "code",
      "metadata": {
        "id": "vLgwUSPL0DZp",
        "colab_type": "code",
        "colab": {
          "base_uri": "https://localhost:8080/",
          "height": 765
        },
        "outputId": "f9fcae8a-73e7-411b-ce1b-f7122e9333e4"
      },
      "source": [
        "pag = 1 \n",
        "\n",
        "#Dados que vão ser 'raspados'\n",
        "base_de_dados = {\"receita\":[],\"ingredientes\":[],\"preparo\":[],\"tempo_de_preparo\":[],\"rendimento\":[],\n",
        "                 \"dificuldade\":[],\"imagem\":[],\"categoria\":[]}\n",
        "\n",
        "base_de_dados_treinamento = {\"tempo_de_preparo\":[],\"dificuldade\":[],\"quant_ingredientes\":[],\"quant_passos_preparo\":[]}                \n",
        "\n",
        "while pag < 45:\n",
        "  pag_dificuldade_baixa = request_pag(url_dificuldade_baixa+str(pag))\n",
        "  pag_dificuldade_baixa_html = BeautifulSoup(pag_inicial, 'lxml')\n",
        "  recipes = pag_dificuldade_baixa_html.find_all('a', class_=\"titulo titulo--resultado\")\n",
        "  print(\"Página:\",pag)\n",
        "  cont = 1\n",
        "  for receita in recipes:\n",
        "    # Requisitando a página da receita:\n",
        "    receita_html = request_pag(receita['href'])\n",
        "    receita_bs = BeautifulSoup(receita_html, 'lxml')\n",
        "    \n",
        "    # Título da Receita:\n",
        "    Titulo = receita.text\n",
        "\n",
        "    # Ingrediantes da Receita:\n",
        "    ingredientes_html = receita_bs.find_all('div', class_=\"ingredientes\")\n",
        "    Ingredientes = \"\"\n",
        "    # Para cada um dos ingredientes:\n",
        "    for i in ingredientes_html:\n",
        "        ingreds = i.find_all(\"li\")\n",
        "    for ingrediente in ingreds:\n",
        "        # Utilizamos o .text para representar o conteúdo textual contido em ingrediente.\n",
        "        Ingredientes += ingrediente.text.replace(\"\\n\",\"\") + \"\\n\"\n",
        "    \n",
        "    Quantidade_de_Ingredientes = len(Ingredientes.split(\"\\n\"))\n",
        "\n",
        "\n",
        "    # Modo de Preparo da Receita:\n",
        "    preparo_html = receita_bs.find_all('div', class_=\"apartado\")\n",
        "\n",
        "    Preparo = \"\"\n",
        "\n",
        "    # Para cada um dos passos de preparo:\n",
        "    for i in preparo_html:\n",
        "        passos = i.find_all(\"p\")\n",
        "        for passo in passos:\n",
        "            # Utilizamos o .text para representar o conteúdo textual contido em ingrediente.\n",
        "            Preparo = Preparo + str(passo.text)\n",
        "    \n",
        "    Preparo = Preparo.replace(\".\",\".\\n\")       \n",
        "    Quantidade_de_Passos = len(Preparo.split(\"\\n\"))\n",
        "\n",
        "    # Tempo de Preparo:\n",
        "    if(receita_bs.find(\"span\", class_=\"property duracion\") == None):\n",
        "        pass\n",
        "    else:\n",
        "        Tempo = receita_bs.find(\"span\", class_=\"property duracion\").text\n",
        "        if convert_to_minutes(Tempo) == 0:\n",
        "          print(Tempo)\n",
        "\n",
        "    # Rendimento:\n",
        "    if(receita_bs.find(\"span\", class_=\"property comensales\") == None):\n",
        "        pass\n",
        "    else:\n",
        "        Rendimento = receita_bs.find(\"span\", class_=\"property comensales\").text.replace(\"m\",\" MIN\").replace(\"h\",\" HORA\")\n",
        "    \n",
        "    # Dificuldade:\n",
        "    if(receita_bs.find(\"span\", class_=\"property dificultad\") == None):\n",
        "        pass\n",
        "    else:\n",
        "        Dificuldade = receita_bs.find(\"span\", class_=\"property dificultad\").text\n",
        "    \n",
        "    # Imagem:\n",
        "    Imagem = receita_bs.find(\"div\", class_=\"imagen lupa\").find('img')['src']\n",
        "\n",
        "  \n",
        "    #Adicionando na Base de Dados\n",
        "    base_de_dados[\"receita\"].append(Titulo)\n",
        "    base_de_dados[\"ingredientes\"].append(Ingredientes)\n",
        "    base_de_dados[\"preparo\"].append(Preparo)\n",
        "    base_de_dados[\"tempo_de_preparo\"].append(str(convert_to_minutes(Tempo)) + \" Minutos\")\n",
        "    base_de_dados[\"rendimento\"].append(Rendimento)\n",
        "    base_de_dados[\"dificuldade\"].append(Dificuldade)\n",
        "    base_de_dados[\"imagem\"].append(Imagem)\n",
        "    base_de_dados[\"categoria\"].append(\"-\")\n",
        "\n",
        "    base_de_dados_treinamento[\"dificuldade\"].append(Dificuldade)\n",
        "    base_de_dados_treinamento[\"tempo_de_preparo\"].append(convert_to_minutes(Tempo))\n",
        "    base_de_dados_treinamento[\"quant_ingredientes\"].append(Quantidade_de_Ingredientes)\n",
        "    base_de_dados_treinamento[\"quant_passos_preparo\"].append(Quantidade_de_Passos)\n",
        "  \n",
        "  pag+=1"
      ],
      "execution_count": 48,
      "outputs": [
        {
          "output_type": "stream",
          "text": [
            "Página: 1\n",
            "Página: 2\n",
            "Página: 3\n",
            "Página: 4\n",
            "Página: 5\n",
            "Página: 6\n",
            "Página: 7\n",
            "Página: 8\n",
            "Página: 9\n",
            "Página: 10\n",
            "Página: 11\n",
            "Página: 12\n",
            "Página: 13\n",
            "Página: 14\n",
            "Página: 15\n",
            "Página: 16\n",
            "Página: 17\n",
            "Página: 18\n",
            "Página: 19\n",
            "Página: 20\n",
            "Página: 21\n",
            "Página: 22\n",
            "Página: 23\n",
            "Página: 24\n",
            "Página: 25\n",
            "Página: 26\n",
            "Página: 27\n",
            "Página: 28\n",
            "Página: 29\n",
            "Página: 30\n",
            "Página: 31\n",
            "Página: 32\n",
            "Página: 33\n",
            "Página: 34\n",
            "Página: 35\n",
            "Página: 36\n",
            "Página: 37\n",
            "Página: 38\n",
            "Página: 39\n",
            "Página: 40\n",
            "Página: 41\n",
            "Página: 42\n",
            "Página: 43\n",
            "Página: 44\n"
          ],
          "name": "stdout"
        }
      ]
    },
    {
      "cell_type": "markdown",
      "metadata": {
        "id": "4zmwGJZLEyFE",
        "colab_type": "text"
      },
      "source": [
        "Buscando receitas com Dificuldade Média\n"
      ]
    },
    {
      "cell_type": "code",
      "metadata": {
        "colab_type": "code",
        "id": "lA5iK99bEh96",
        "colab": {
          "base_uri": "https://localhost:8080/",
          "height": 765
        },
        "outputId": "badb2e77-6d40-494f-dcef-897a02fb4ac5"
      },
      "source": [
        "pag = 1 \n",
        "\n",
        "while pag < 45:\n",
        "  pag_dificuldade_baixa = request_pag(url_dificuldade_media+str(pag))\n",
        "  pag_dificuldade_baixa_html = BeautifulSoup(pag_inicial, 'lxml')\n",
        "  recipes = pag_dificuldade_baixa_html.find_all('a', class_=\"titulo titulo--resultado\")\n",
        "  print(\"Página:\",pag)\n",
        "  cont = 1\n",
        "  for receita in recipes:\n",
        "    # Requisitando a página da receita:\n",
        "    receita_html = request_pag(receita['href'])\n",
        "    receita_bs = BeautifulSoup(receita_html, 'lxml')\n",
        "    \n",
        "    # Título da Receita:\n",
        "    Titulo = receita.text\n",
        "\n",
        "    # Ingrediantes da Receita:\n",
        "    ingredientes_html = receita_bs.find_all('div', class_=\"ingredientes\")\n",
        "    Ingredientes = \"\"\n",
        "    # Para cada um dos ingredientes:\n",
        "    for i in ingredientes_html:\n",
        "        ingreds = i.find_all(\"li\")\n",
        "    for ingrediente in ingreds:\n",
        "        # Utilizamos o .text para representar o conteúdo textual contido em ingrediente.\n",
        "        Ingredientes += ingrediente.text.replace(\"\\n\",\"\") + \"\\n\"\n",
        "    \n",
        "    Quantidade_de_Ingredientes = len(Ingredientes.split(\"\\n\"))\n",
        "\n",
        "\n",
        "    # Modo de Preparo da Receita:\n",
        "    preparo_html = receita_bs.find_all('div', class_=\"apartado\")\n",
        "\n",
        "    Preparo = \"\"\n",
        "\n",
        "    # Para cada um dos passos de preparo:\n",
        "    for i in preparo_html:\n",
        "        passos = i.find_all(\"p\")\n",
        "        for passo in passos:\n",
        "            # Utilizamos o .text para representar o conteúdo textual contido em ingrediente.\n",
        "            Preparo = Preparo + str(passo.text)\n",
        "    \n",
        "    Preparo = Preparo.replace(\".\",\".\\n\")       \n",
        "    Quantidade_de_Passos = len(Preparo.split(\"\\n\"))\n",
        "\n",
        "    # Tempo de Preparo:\n",
        "    if(receita_bs.find(\"span\", class_=\"property duracion\") == None):\n",
        "        pass\n",
        "    else:\n",
        "        Tempo = receita_bs.find(\"span\", class_=\"property duracion\").text\n",
        "        if convert_to_minutes(Tempo) == 0:\n",
        "          print(Tempo)\n",
        "\n",
        "    # Rendimento:\n",
        "    if(receita_bs.find(\"span\", class_=\"property comensales\") == None):\n",
        "        pass\n",
        "    else:\n",
        "        Rendimento = receita_bs.find(\"span\", class_=\"property comensales\").text.replace(\"m\",\" MIN\").replace(\"h\",\" HORA\")\n",
        "    \n",
        "    # Dificuldade:\n",
        "    if(receita_bs.find(\"span\", class_=\"property dificultad\") == None):\n",
        "        pass\n",
        "    else:\n",
        "        Dificuldade = receita_bs.find(\"span\", class_=\"property dificultad\").text\n",
        "    \n",
        "    # Imagem:\n",
        "    Imagem = receita_bs.find(\"div\", class_=\"imagen lupa\").find('img')['src']\n",
        "\n",
        "    #Adicionando na Base de Dados\n",
        "    base_de_dados[\"receita\"].append(Titulo)\n",
        "    base_de_dados[\"ingredientes\"].append(Ingredientes)\n",
        "    base_de_dados[\"preparo\"].append(Preparo)\n",
        "    base_de_dados[\"tempo_de_preparo\"].append(str(convert_to_minutes(Tempo)) + \" Minutos\")\n",
        "    base_de_dados[\"rendimento\"].append(Rendimento)\n",
        "    base_de_dados[\"dificuldade\"].append(Dificuldade)\n",
        "    base_de_dados[\"imagem\"].append(Imagem)\n",
        "    base_de_dados[\"categoria\"].append(\"-\")\n",
        "\n",
        "    base_de_dados_treinamento[\"dificuldade\"].append(Dificuldade)\n",
        "    base_de_dados_treinamento[\"tempo_de_preparo\"].append(convert_to_minutes(Tempo))\n",
        "    base_de_dados_treinamento[\"quant_ingredientes\"].append(Quantidade_de_Ingredientes)\n",
        "    base_de_dados_treinamento[\"quant_passos_preparo\"].append(Quantidade_de_Passos)\n",
        "  \n",
        "  pag+=1"
      ],
      "execution_count": 49,
      "outputs": [
        {
          "output_type": "stream",
          "text": [
            "Página: 1\n",
            "Página: 2\n",
            "Página: 3\n",
            "Página: 4\n",
            "Página: 5\n",
            "Página: 6\n",
            "Página: 7\n",
            "Página: 8\n",
            "Página: 9\n",
            "Página: 10\n",
            "Página: 11\n",
            "Página: 12\n",
            "Página: 13\n",
            "Página: 14\n",
            "Página: 15\n",
            "Página: 16\n",
            "Página: 17\n",
            "Página: 18\n",
            "Página: 19\n",
            "Página: 20\n",
            "Página: 21\n",
            "Página: 22\n",
            "Página: 23\n",
            "Página: 24\n",
            "Página: 25\n",
            "Página: 26\n",
            "Página: 27\n",
            "Página: 28\n",
            "Página: 29\n",
            "Página: 30\n",
            "Página: 31\n",
            "Página: 32\n",
            "Página: 33\n",
            "Página: 34\n",
            "Página: 35\n",
            "Página: 36\n",
            "Página: 37\n",
            "Página: 38\n",
            "Página: 39\n",
            "Página: 40\n",
            "Página: 41\n",
            "Página: 42\n",
            "Página: 43\n",
            "Página: 44\n"
          ],
          "name": "stdout"
        }
      ]
    },
    {
      "cell_type": "markdown",
      "metadata": {
        "id": "fBq-M7SsFFO_",
        "colab_type": "text"
      },
      "source": [
        "Buscando receitas com Dificuldade Elevada"
      ]
    },
    {
      "cell_type": "code",
      "metadata": {
        "colab_type": "code",
        "id": "-yKv4VzpEiQB",
        "colab": {
          "base_uri": "https://localhost:8080/",
          "height": 68
        },
        "outputId": "0301392a-72a3-4f12-ea6a-fb99ed82e5d8"
      },
      "source": [
        "pag = 1 \n",
        "\n",
        "while pag < 4:\n",
        "  pag_dificuldade_baixa = request_pag(url_dificuldade_dificil+str(pag))\n",
        "  pag_dificuldade_baixa_html = BeautifulSoup(pag_inicial, 'lxml')\n",
        "  recipes = pag_dificuldade_baixa_html.find_all('a', class_=\"titulo titulo--resultado\")\n",
        "  print(\"Página:\",pag)\n",
        "  cont = 1\n",
        "  for receita in recipes:\n",
        "    # Requisitando a página da receita:\n",
        "    receita_html = request_pag(receita['href'])\n",
        "    receita_bs = BeautifulSoup(receita_html, 'lxml')\n",
        "    \n",
        "    # Título da Receita:\n",
        "    Titulo = receita.text\n",
        "\n",
        "    # Ingrediantes da Receita:\n",
        "    ingredientes_html = receita_bs.find_all('div', class_=\"ingredientes\")\n",
        "    Ingredientes = \"\"\n",
        "    # Para cada um dos ingredientes:\n",
        "    for i in ingredientes_html:\n",
        "        ingreds = i.find_all(\"li\")\n",
        "    for ingrediente in ingreds:\n",
        "        # Utilizamos o .text para representar o conteúdo textual contido em ingrediente.\n",
        "        Ingredientes += ingrediente.text.replace(\"\\n\",\"\") + \"\\n\"\n",
        "    \n",
        "    Quantidade_de_Ingredientes = len(Ingredientes.split(\"\\n\"))\n",
        "\n",
        "\n",
        "    # Modo de Preparo da Receita:\n",
        "    preparo_html = receita_bs.find_all('div', class_=\"apartado\")\n",
        "\n",
        "    Preparo = \"\"\n",
        "\n",
        "    # Para cada um dos passos de preparo:\n",
        "    for i in preparo_html:\n",
        "        passos = i.find_all(\"p\")\n",
        "        for passo in passos:\n",
        "            # Utilizamos o .text para representar o conteúdo textual contido em ingrediente.\n",
        "            Preparo = Preparo + str(passo.text)\n",
        "    \n",
        "    Preparo = Preparo.replace(\".\",\".\\n\")       \n",
        "    Quantidade_de_Passos = len(Preparo.split(\"\\n\"))\n",
        "\n",
        "    # Tempo de Preparo:\n",
        "    if(receita_bs.find(\"span\", class_=\"property duracion\") == None):\n",
        "        pass\n",
        "    else:\n",
        "        Tempo = receita_bs.find(\"span\", class_=\"property duracion\").text\n",
        "        if convert_to_minutes(Tempo) == 0:\n",
        "          print(Tempo)\n",
        "\n",
        "    # Rendimento:\n",
        "    if(receita_bs.find(\"span\", class_=\"property comensales\") == None):\n",
        "        pass\n",
        "    else:\n",
        "        Rendimento = receita_bs.find(\"span\", class_=\"property comensales\").text.replace(\"m\",\" MIN\").replace(\"h\",\" HORA\")\n",
        "    \n",
        "    # Dificuldade:\n",
        "    if(receita_bs.find(\"span\", class_=\"property dificultad\") == None):\n",
        "        pass\n",
        "    else:\n",
        "        Dificuldade = receita_bs.find(\"span\", class_=\"property dificultad\").text\n",
        "    \n",
        "    # Imagem:\n",
        "    Imagem = receita_bs.find(\"div\", class_=\"imagen lupa\").find('img')['src']\n",
        "\n",
        "    #Adicionando na Base de Dados\n",
        "    base_de_dados[\"receita\"].append(Titulo)\n",
        "    base_de_dados[\"ingredientes\"].append(Ingredientes)\n",
        "    base_de_dados[\"preparo\"].append(Preparo)\n",
        "    base_de_dados[\"tempo_de_preparo\"].append(str(convert_to_minutes(Tempo)) + \" Minutos\")\n",
        "    base_de_dados[\"rendimento\"].append(Rendimento)\n",
        "    base_de_dados[\"dificuldade\"].append(Dificuldade)\n",
        "    base_de_dados[\"imagem\"].append(Imagem)\n",
        "    base_de_dados[\"categoria\"].append(\"-\")\n",
        "\n",
        "    base_de_dados_treinamento[\"dificuldade\"].append(Dificuldade)\n",
        "    base_de_dados_treinamento[\"tempo_de_preparo\"].append(convert_to_minutes(Tempo))\n",
        "    base_de_dados_treinamento[\"quant_ingredientes\"].append(Quantidade_de_Ingredientes)\n",
        "    base_de_dados_treinamento[\"quant_passos_preparo\"].append(Quantidade_de_Passos)\n",
        "  \n",
        "  pag+=1"
      ],
      "execution_count": 50,
      "outputs": [
        {
          "output_type": "stream",
          "text": [
            "Página: 1\n",
            "Página: 2\n",
            "Página: 3\n"
          ],
          "name": "stdout"
        }
      ]
    },
    {
      "cell_type": "markdown",
      "metadata": {
        "id": "c4khJC5HU0hF",
        "colab_type": "text"
      },
      "source": [
        "# Criando a Base de Dados"
      ]
    },
    {
      "cell_type": "code",
      "metadata": {
        "id": "6Xjf1xA6U0hG",
        "colab_type": "code",
        "outputId": "66499f6f-a2d3-4737-d824-f4ee6ad3b772",
        "colab": {
          "base_uri": "https://localhost:8080/",
          "height": 581
        }
      },
      "source": [
        "df_receitas = pd.DataFrame(data = base_de_dados)\n",
        "print(df_receitas.shape)\n",
        "df_receitas.head()"
      ],
      "execution_count": 57,
      "outputs": [
        {
          "output_type": "stream",
          "text": [
            "(3640, 8)\n"
          ],
          "name": "stdout"
        },
        {
          "output_type": "execute_result",
          "data": {
            "text/html": [
              "<div>\n",
              "<style scoped>\n",
              "    .dataframe tbody tr th:only-of-type {\n",
              "        vertical-align: middle;\n",
              "    }\n",
              "\n",
              "    .dataframe tbody tr th {\n",
              "        vertical-align: top;\n",
              "    }\n",
              "\n",
              "    .dataframe thead th {\n",
              "        text-align: right;\n",
              "    }\n",
              "</style>\n",
              "<table border=\"1\" class=\"dataframe\">\n",
              "  <thead>\n",
              "    <tr style=\"text-align: right;\">\n",
              "      <th></th>\n",
              "      <th>receita</th>\n",
              "      <th>ingredientes</th>\n",
              "      <th>preparo</th>\n",
              "      <th>tempo_de_preparo</th>\n",
              "      <th>rendimento</th>\n",
              "      <th>dificuldade</th>\n",
              "      <th>imagem</th>\n",
              "      <th>categoria</th>\n",
              "    </tr>\n",
              "  </thead>\n",
              "  <tbody>\n",
              "    <tr>\n",
              "      <th>0</th>\n",
              "      <td>Receita de Frango desfiado e temperado fácil</td>\n",
              "      <td>2 filés de frango\\n2 xícaras de água (480 mili...</td>\n",
              "      <td>Separe todos os ingredientes necessários ao pr...</td>\n",
              "      <td>45 Minutos</td>\n",
              "      <td>2 convidados</td>\n",
              "      <td>Dificuldade baixa</td>\n",
              "      <td>https://t1.rg.ltmcdn.com/pt/images/7/0/5/frang...</td>\n",
              "      <td>-</td>\n",
              "    </tr>\n",
              "    <tr>\n",
              "      <th>1</th>\n",
              "      <td>Receita de Ravioli de frango</td>\n",
              "      <td>300 gramas de massa de ravioli (receita abaixo...</td>\n",
              "      <td>Comece separando os ingredientes do recheio.\\n...</td>\n",
              "      <td>45 Minutos</td>\n",
              "      <td>2 convidados</td>\n",
              "      <td>Dificuldade baixa</td>\n",
              "      <td>https://t2.rg.ltmcdn.com/pt/images/6/6/4/ravio...</td>\n",
              "      <td>-</td>\n",
              "    </tr>\n",
              "    <tr>\n",
              "      <th>2</th>\n",
              "      <td>Receita de Molho para ravioli de frango</td>\n",
              "      <td>2 colheres de sopa de manteiga \\n2 colheres de...</td>\n",
              "      <td>Separe os ingredientes.\\n A quantidade aqui de...</td>\n",
              "      <td>15 Minutos</td>\n",
              "      <td>2 convidados</td>\n",
              "      <td>Dificuldade baixa</td>\n",
              "      <td>https://t1.rg.ltmcdn.com/pt/images/7/6/4/molho...</td>\n",
              "      <td>-</td>\n",
              "    </tr>\n",
              "    <tr>\n",
              "      <th>3</th>\n",
              "      <td>Receita de Soja edamame</td>\n",
              "      <td>1 pacote de edamame (fresco ou congelado) \\n1 ...</td>\n",
              "      <td>Hoje em dia é cada vez mais fácil encontrar ed...</td>\n",
              "      <td>10 Minutos</td>\n",
              "      <td>4 convidados</td>\n",
              "      <td>Dificuldade baixa</td>\n",
              "      <td>https://t1.rg.ltmcdn.com/pt/images/7/6/1/soja_...</td>\n",
              "      <td>-</td>\n",
              "    </tr>\n",
              "    <tr>\n",
              "      <th>4</th>\n",
              "      <td>Receita de Macarrão ravioli caseiro</td>\n",
              "      <td>2 ovos\\n1 xícara de farinha de trigo sem ferme...</td>\n",
              "      <td>Separe os ingredientes, que são apenas três: o...</td>\n",
              "      <td>90 Minutos</td>\n",
              "      <td>2 convidados</td>\n",
              "      <td>Dificuldade baixa</td>\n",
              "      <td>https://t2.rg.ltmcdn.com/pt/images/5/6/4/macar...</td>\n",
              "      <td>-</td>\n",
              "    </tr>\n",
              "  </tbody>\n",
              "</table>\n",
              "</div>"
            ],
            "text/plain": [
              "                                        receita  ... categoria\n",
              "0  Receita de Frango desfiado e temperado fácil  ...         -\n",
              "1                  Receita de Ravioli de frango  ...         -\n",
              "2       Receita de Molho para ravioli de frango  ...         -\n",
              "3                       Receita de Soja edamame  ...         -\n",
              "4           Receita de Macarrão ravioli caseiro  ...         -\n",
              "\n",
              "[5 rows x 8 columns]"
            ]
          },
          "metadata": {
            "tags": []
          },
          "execution_count": 57
        }
      ]
    },
    {
      "cell_type": "markdown",
      "metadata": {
        "id": "mA8DKxswU0hI",
        "colab_type": "text"
      },
      "source": [
        "# Exportando a Base de Dados"
      ]
    },
    {
      "cell_type": "code",
      "metadata": {
        "id": "cPi2dBAfU0hJ",
        "colab_type": "code",
        "outputId": "9a62a542-b152-4591-a1bc-2ca21089a87b",
        "colab": {
          "base_uri": "https://localhost:8080/",
          "height": 51
        }
      },
      "source": [
        "df_receitas['categoria'].value_counts()"
      ],
      "execution_count": 52,
      "outputs": [
        {
          "output_type": "execute_result",
          "data": {
            "text/plain": [
              "-    3640\n",
              "Name: categoria, dtype: int64"
            ]
          },
          "metadata": {
            "tags": []
          },
          "execution_count": 52
        }
      ]
    },
    {
      "cell_type": "code",
      "metadata": {
        "id": "t7lQ2nn8XelL",
        "colab_type": "code",
        "outputId": "2d87d938-9924-4333-b047-da858c704313",
        "colab": {
          "base_uri": "https://localhost:8080/",
          "height": 34
        }
      },
      "source": [
        "len(df_receitas)"
      ],
      "execution_count": 53,
      "outputs": [
        {
          "output_type": "execute_result",
          "data": {
            "text/plain": [
              "3640"
            ]
          },
          "metadata": {
            "tags": []
          },
          "execution_count": 53
        }
      ]
    },
    {
      "cell_type": "code",
      "metadata": {
        "id": "WT3wrvYCbONz",
        "colab_type": "code",
        "colab": {}
      },
      "source": [
        "df_receitas[[\"receita\",\"ingredientes\",'preparo','tempo_de_preparo','rendimento','categoria','imagem']].to_csv (r'export_receitas_tudoReceitas.csv', index = False, header=True)"
      ],
      "execution_count": 0,
      "outputs": []
    },
    {
      "cell_type": "code",
      "metadata": {
        "colab_type": "code",
        "id": "uK6Yx4-WdpNT",
        "colab": {}
      },
      "source": [
        "df_receitas.to_csv (r'receitas.csv', index = False, header=True)"
      ],
      "execution_count": 0,
      "outputs": []
    },
    {
      "cell_type": "code",
      "metadata": {
        "id": "23NXORfWU2xX",
        "colab_type": "code",
        "outputId": "408df16c-4519-4cff-959b-5147cd05cb3c",
        "colab": {
          "base_uri": "https://localhost:8080/",
          "height": 221
        }
      },
      "source": [
        "df_receitas['tempo_de_preparo'].value_counts()"
      ],
      "execution_count": 0,
      "outputs": [
        {
          "output_type": "execute_result",
          "data": {
            "text/plain": [
              "30Minutos      197\n",
              "45Minutos      154\n",
              "15Minutos      109\n",
              "90Minutos       98\n",
              "10Minutos       84\n",
              "150Minutos      12\n",
              "1440Minutos      7\n",
              "180Minutos       6\n",
              "240Minutos       5\n",
              "480Minutos       4\n",
              "360Minutos       4\n",
              "Name: tempo_de_preparo, dtype: int64"
            ]
          },
          "metadata": {
            "tags": []
          },
          "execution_count": 13
        }
      ]
    },
    {
      "cell_type": "code",
      "metadata": {
        "id": "gTk9x_6vdBxt",
        "colab_type": "code",
        "colab": {
          "base_uri": "https://localhost:8080/",
          "height": 221
        },
        "outputId": "a8522114-53f2-4fd2-e318-5f7e7f777c2d"
      },
      "source": [
        "df_receitas_treinamento = pd.DataFrame(data = base_de_dados_treinamento)\n",
        "print(df_receitas_treinamento.shape)\n",
        "df_receitas_treinamento.head()"
      ],
      "execution_count": 56,
      "outputs": [
        {
          "output_type": "stream",
          "text": [
            "(3640, 4)\n"
          ],
          "name": "stdout"
        },
        {
          "output_type": "execute_result",
          "data": {
            "text/html": [
              "<div>\n",
              "<style scoped>\n",
              "    .dataframe tbody tr th:only-of-type {\n",
              "        vertical-align: middle;\n",
              "    }\n",
              "\n",
              "    .dataframe tbody tr th {\n",
              "        vertical-align: top;\n",
              "    }\n",
              "\n",
              "    .dataframe thead th {\n",
              "        text-align: right;\n",
              "    }\n",
              "</style>\n",
              "<table border=\"1\" class=\"dataframe\">\n",
              "  <thead>\n",
              "    <tr style=\"text-align: right;\">\n",
              "      <th></th>\n",
              "      <th>tempo_de_preparo</th>\n",
              "      <th>dificuldade</th>\n",
              "      <th>quant_ingredientes</th>\n",
              "      <th>quant_passos_preparo</th>\n",
              "    </tr>\n",
              "  </thead>\n",
              "  <tbody>\n",
              "    <tr>\n",
              "      <th>0</th>\n",
              "      <td>45</td>\n",
              "      <td>Dificuldade baixa</td>\n",
              "      <td>9</td>\n",
              "      <td>11</td>\n",
              "    </tr>\n",
              "    <tr>\n",
              "      <th>1</th>\n",
              "      <td>45</td>\n",
              "      <td>Dificuldade baixa</td>\n",
              "      <td>11</td>\n",
              "      <td>21</td>\n",
              "    </tr>\n",
              "    <tr>\n",
              "      <th>2</th>\n",
              "      <td>15</td>\n",
              "      <td>Dificuldade baixa</td>\n",
              "      <td>9</td>\n",
              "      <td>11</td>\n",
              "    </tr>\n",
              "    <tr>\n",
              "      <th>3</th>\n",
              "      <td>10</td>\n",
              "      <td>Dificuldade baixa</td>\n",
              "      <td>5</td>\n",
              "      <td>21</td>\n",
              "    </tr>\n",
              "    <tr>\n",
              "      <th>4</th>\n",
              "      <td>90</td>\n",
              "      <td>Dificuldade baixa</td>\n",
              "      <td>5</td>\n",
              "      <td>25</td>\n",
              "    </tr>\n",
              "  </tbody>\n",
              "</table>\n",
              "</div>"
            ],
            "text/plain": [
              "   tempo_de_preparo  ... quant_passos_preparo\n",
              "0                45  ...                   11\n",
              "1                45  ...                   21\n",
              "2                15  ...                   11\n",
              "3                10  ...                   21\n",
              "4                90  ...                   25\n",
              "\n",
              "[5 rows x 4 columns]"
            ]
          },
          "metadata": {
            "tags": []
          },
          "execution_count": 56
        }
      ]
    },
    {
      "cell_type": "code",
      "metadata": {
        "id": "VbTNNX89Q3ut",
        "colab_type": "code",
        "colab": {}
      },
      "source": [
        "df_receitas_treinamento.to_csv (r'receitas.csv', index = False, header=True)"
      ],
      "execution_count": 0,
      "outputs": []
    }
  ]
}